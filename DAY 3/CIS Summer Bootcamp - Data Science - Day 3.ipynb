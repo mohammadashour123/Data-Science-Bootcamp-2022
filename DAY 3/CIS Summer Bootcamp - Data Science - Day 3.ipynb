{
 "cells": [
  {
   "cell_type": "markdown",
   "id": "2cdf6bd1",
   "metadata": {},
   "source": [
    "##  Session Tittle : Data Viulization and EDA"
   ]
  },
  {
   "cell_type": "markdown",
   "id": "81157c26",
   "metadata": {
    "papermill": {
     "duration": 0.017265,
     "end_time": "2022-07-21T09:39:22.175014",
     "exception": false,
     "start_time": "2022-07-21T09:39:22.157749",
     "status": "completed"
    },
    "tags": []
   },
   "source": [
    "\n",
    "\n",
    "### In this Notebook we'll Understand how to performe EDA step by step.\n"
   ]
  },
  {
   "cell_type": "markdown",
   "id": "98c047d0",
   "metadata": {
    "papermill": {
     "duration": 0.013799,
     "end_time": "2022-07-21T09:39:22.204568",
     "exception": false,
     "start_time": "2022-07-21T09:39:22.190769",
     "status": "completed"
    },
    "tags": []
   },
   "source": [
    "### A Lot to know, A Lot to discuss... Lets Begin"
   ]
  },
  {
   "cell_type": "markdown",
   "id": "36e05155",
   "metadata": {
    "papermill": {
     "duration": 0.013484,
     "end_time": "2022-07-21T09:39:22.231724",
     "exception": false,
     "start_time": "2022-07-21T09:39:22.218240",
     "status": "completed"
    },
    "tags": []
   },
   "source": [
    "![](https://i.gifer.com/7RQq.gif)"
   ]
  },
  {
   "cell_type": "markdown",
   "id": "067e7239",
   "metadata": {},
   "source": [
    "## Zomato Dataset Exploratory Data Analysis\n",
    "\n",
    "- url: contains the url of the restaurant in the zomato website\n",
    "\n",
    "- address=contains the address of the restaurant in Bengaluru\n",
    "\n",
    "- name: contains the name of the restaurant\n",
    "\n",
    "- online_order=whether online ordering is available in the restaurant or not\n",
    "\n",
    "- book_table=table book option available or not\n",
    "\n",
    "- rate=contains the overall rating of the restaurant out of 5\n",
    "\n",
    "- votes=contains total number of rating for the restaurant as of the above mentioned date\n",
    "\n",
    "- phone=contains the phone number of the restaurant\n",
    "\n",
    "- location=contains the neighborhood in which the restaurant is located\n",
    "\n",
    "- rest_type=restaurant type\n",
    "\n",
    "- dish_liked=dishes people liked in the restaurant\n",
    "\n",
    "- cuisines=food styles, separated by comma\n",
    "\n",
    "- approx_cost(for two people)=contains the approximate cost for meal for two people\n",
    "\n",
    "- reviews_list=list of tuples containing reviews for the restaurant, each tuple consists of two values, rating and review by the customer\n",
    " \n",
    "- menu_item=contains list of menus available in the restaurant\n",
    "\n",
    "- listed_in(type)=type of meal\n",
    "\n",
    "- listed_in(city)contains the neighborhood in which the restaurant is listed"
   ]
  },
  {
   "cell_type": "code",
   "execution_count": 1,
   "id": "3039b169",
   "metadata": {
    "execution": {
     "iopub.execute_input": "2022-07-21T09:39:22.262262Z",
     "iopub.status.busy": "2022-07-21T09:39:22.261417Z",
     "iopub.status.idle": "2022-07-21T09:39:23.274794Z",
     "shell.execute_reply": "2022-07-21T09:39:23.273752Z"
    },
    "papermill": {
     "duration": 1.031794,
     "end_time": "2022-07-21T09:39:23.277547",
     "exception": false,
     "start_time": "2022-07-21T09:39:22.245753",
     "status": "completed"
    },
    "tags": []
   },
   "outputs": [],
   "source": [
    "# Import all required Libraries\n",
    "import numpy as np\n",
    "import pandas as pd \n",
    "import matplotlib.pyplot as plt\n",
    "import seaborn as sns"
   ]
  },
  {
   "cell_type": "code",
   "execution_count": 2,
   "id": "eb92712b",
   "metadata": {
    "execution": {
     "iopub.execute_input": "2022-07-21T09:39:23.307425Z",
     "iopub.status.busy": "2022-07-21T09:39:23.307041Z",
     "iopub.status.idle": "2022-07-21T09:39:34.211197Z",
     "shell.execute_reply": "2022-07-21T09:39:34.210121Z"
    },
    "papermill": {
     "duration": 10.923462,
     "end_time": "2022-07-21T09:39:34.214995",
     "exception": false,
     "start_time": "2022-07-21T09:39:23.291533",
     "status": "completed"
    },
    "tags": []
   },
   "outputs": [
    {
     "data": {
      "text/html": [
       "<div>\n",
       "<style scoped>\n",
       "    .dataframe tbody tr th:only-of-type {\n",
       "        vertical-align: middle;\n",
       "    }\n",
       "\n",
       "    .dataframe tbody tr th {\n",
       "        vertical-align: top;\n",
       "    }\n",
       "\n",
       "    .dataframe thead th {\n",
       "        text-align: right;\n",
       "    }\n",
       "</style>\n",
       "<table border=\"1\" class=\"dataframe\">\n",
       "  <thead>\n",
       "    <tr style=\"text-align: right;\">\n",
       "      <th></th>\n",
       "      <th>url</th>\n",
       "      <th>address</th>\n",
       "      <th>name</th>\n",
       "      <th>online_order</th>\n",
       "      <th>book_table</th>\n",
       "      <th>rate</th>\n",
       "      <th>votes</th>\n",
       "      <th>phone</th>\n",
       "      <th>location</th>\n",
       "      <th>rest_type</th>\n",
       "      <th>dish_liked</th>\n",
       "      <th>cuisines</th>\n",
       "      <th>approx_cost(for two people)</th>\n",
       "      <th>reviews_list</th>\n",
       "      <th>menu_item</th>\n",
       "      <th>listed_in(type)</th>\n",
       "      <th>listed_in(city)</th>\n",
       "    </tr>\n",
       "  </thead>\n",
       "  <tbody>\n",
       "    <tr>\n",
       "      <th>0</th>\n",
       "      <td>https://www.zomato.com/bangalore/jalsa-banasha...</td>\n",
       "      <td>942, 21st Main Road, 2nd Stage, Banashankari, ...</td>\n",
       "      <td>Jalsa</td>\n",
       "      <td>Yes</td>\n",
       "      <td>Yes</td>\n",
       "      <td>4.1/5</td>\n",
       "      <td>775</td>\n",
       "      <td>080 42297555\\r\\n+91 9743772233</td>\n",
       "      <td>Banashankari</td>\n",
       "      <td>Casual Dining</td>\n",
       "      <td>Pasta, Lunch Buffet, Masala Papad, Paneer Laja...</td>\n",
       "      <td>North Indian, Mughlai, Chinese</td>\n",
       "      <td>800</td>\n",
       "      <td>[('Rated 4.0', 'RATED\\n  A beautiful place to ...</td>\n",
       "      <td>[]</td>\n",
       "      <td>Buffet</td>\n",
       "      <td>Banashankari</td>\n",
       "    </tr>\n",
       "    <tr>\n",
       "      <th>1</th>\n",
       "      <td>https://www.zomato.com/bangalore/spice-elephan...</td>\n",
       "      <td>2nd Floor, 80 Feet Road, Near Big Bazaar, 6th ...</td>\n",
       "      <td>Spice Elephant</td>\n",
       "      <td>Yes</td>\n",
       "      <td>No</td>\n",
       "      <td>4.1/5</td>\n",
       "      <td>787</td>\n",
       "      <td>080 41714161</td>\n",
       "      <td>Banashankari</td>\n",
       "      <td>Casual Dining</td>\n",
       "      <td>Momos, Lunch Buffet, Chocolate Nirvana, Thai G...</td>\n",
       "      <td>Chinese, North Indian, Thai</td>\n",
       "      <td>800</td>\n",
       "      <td>[('Rated 4.0', 'RATED\\n  Had been here for din...</td>\n",
       "      <td>[]</td>\n",
       "      <td>Buffet</td>\n",
       "      <td>Banashankari</td>\n",
       "    </tr>\n",
       "    <tr>\n",
       "      <th>2</th>\n",
       "      <td>https://www.zomato.com/SanchurroBangalore?cont...</td>\n",
       "      <td>1112, Next to KIMS Medical College, 17th Cross...</td>\n",
       "      <td>San Churro Cafe</td>\n",
       "      <td>Yes</td>\n",
       "      <td>No</td>\n",
       "      <td>3.8/5</td>\n",
       "      <td>918</td>\n",
       "      <td>+91 9663487993</td>\n",
       "      <td>Banashankari</td>\n",
       "      <td>Cafe, Casual Dining</td>\n",
       "      <td>Churros, Cannelloni, Minestrone Soup, Hot Choc...</td>\n",
       "      <td>Cafe, Mexican, Italian</td>\n",
       "      <td>800</td>\n",
       "      <td>[('Rated 3.0', \"RATED\\n  Ambience is not that ...</td>\n",
       "      <td>[]</td>\n",
       "      <td>Buffet</td>\n",
       "      <td>Banashankari</td>\n",
       "    </tr>\n",
       "    <tr>\n",
       "      <th>3</th>\n",
       "      <td>https://www.zomato.com/bangalore/addhuri-udupi...</td>\n",
       "      <td>1st Floor, Annakuteera, 3rd Stage, Banashankar...</td>\n",
       "      <td>Addhuri Udupi Bhojana</td>\n",
       "      <td>No</td>\n",
       "      <td>No</td>\n",
       "      <td>3.7/5</td>\n",
       "      <td>88</td>\n",
       "      <td>+91 9620009302</td>\n",
       "      <td>Banashankari</td>\n",
       "      <td>Quick Bites</td>\n",
       "      <td>Masala Dosa</td>\n",
       "      <td>South Indian, North Indian</td>\n",
       "      <td>300</td>\n",
       "      <td>[('Rated 4.0', \"RATED\\n  Great food and proper...</td>\n",
       "      <td>[]</td>\n",
       "      <td>Buffet</td>\n",
       "      <td>Banashankari</td>\n",
       "    </tr>\n",
       "    <tr>\n",
       "      <th>4</th>\n",
       "      <td>https://www.zomato.com/bangalore/grand-village...</td>\n",
       "      <td>10, 3rd Floor, Lakshmi Associates, Gandhi Baza...</td>\n",
       "      <td>Grand Village</td>\n",
       "      <td>No</td>\n",
       "      <td>No</td>\n",
       "      <td>3.8/5</td>\n",
       "      <td>166</td>\n",
       "      <td>+91 8026612447\\r\\n+91 9901210005</td>\n",
       "      <td>Basavanagudi</td>\n",
       "      <td>Casual Dining</td>\n",
       "      <td>Panipuri, Gol Gappe</td>\n",
       "      <td>North Indian, Rajasthani</td>\n",
       "      <td>600</td>\n",
       "      <td>[('Rated 4.0', 'RATED\\n  Very good restaurant ...</td>\n",
       "      <td>[]</td>\n",
       "      <td>Buffet</td>\n",
       "      <td>Banashankari</td>\n",
       "    </tr>\n",
       "  </tbody>\n",
       "</table>\n",
       "</div>"
      ],
      "text/plain": [
       "                                                 url  \\\n",
       "0  https://www.zomato.com/bangalore/jalsa-banasha...   \n",
       "1  https://www.zomato.com/bangalore/spice-elephan...   \n",
       "2  https://www.zomato.com/SanchurroBangalore?cont...   \n",
       "3  https://www.zomato.com/bangalore/addhuri-udupi...   \n",
       "4  https://www.zomato.com/bangalore/grand-village...   \n",
       "\n",
       "                                             address                   name  \\\n",
       "0  942, 21st Main Road, 2nd Stage, Banashankari, ...                  Jalsa   \n",
       "1  2nd Floor, 80 Feet Road, Near Big Bazaar, 6th ...         Spice Elephant   \n",
       "2  1112, Next to KIMS Medical College, 17th Cross...        San Churro Cafe   \n",
       "3  1st Floor, Annakuteera, 3rd Stage, Banashankar...  Addhuri Udupi Bhojana   \n",
       "4  10, 3rd Floor, Lakshmi Associates, Gandhi Baza...          Grand Village   \n",
       "\n",
       "  online_order book_table   rate  votes                             phone  \\\n",
       "0          Yes        Yes  4.1/5    775    080 42297555\\r\\n+91 9743772233   \n",
       "1          Yes         No  4.1/5    787                      080 41714161   \n",
       "2          Yes         No  3.8/5    918                    +91 9663487993   \n",
       "3           No         No  3.7/5     88                    +91 9620009302   \n",
       "4           No         No  3.8/5    166  +91 8026612447\\r\\n+91 9901210005   \n",
       "\n",
       "       location            rest_type  \\\n",
       "0  Banashankari        Casual Dining   \n",
       "1  Banashankari        Casual Dining   \n",
       "2  Banashankari  Cafe, Casual Dining   \n",
       "3  Banashankari          Quick Bites   \n",
       "4  Basavanagudi        Casual Dining   \n",
       "\n",
       "                                          dish_liked  \\\n",
       "0  Pasta, Lunch Buffet, Masala Papad, Paneer Laja...   \n",
       "1  Momos, Lunch Buffet, Chocolate Nirvana, Thai G...   \n",
       "2  Churros, Cannelloni, Minestrone Soup, Hot Choc...   \n",
       "3                                        Masala Dosa   \n",
       "4                                Panipuri, Gol Gappe   \n",
       "\n",
       "                         cuisines approx_cost(for two people)  \\\n",
       "0  North Indian, Mughlai, Chinese                         800   \n",
       "1     Chinese, North Indian, Thai                         800   \n",
       "2          Cafe, Mexican, Italian                         800   \n",
       "3      South Indian, North Indian                         300   \n",
       "4        North Indian, Rajasthani                         600   \n",
       "\n",
       "                                        reviews_list menu_item  \\\n",
       "0  [('Rated 4.0', 'RATED\\n  A beautiful place to ...        []   \n",
       "1  [('Rated 4.0', 'RATED\\n  Had been here for din...        []   \n",
       "2  [('Rated 3.0', \"RATED\\n  Ambience is not that ...        []   \n",
       "3  [('Rated 4.0', \"RATED\\n  Great food and proper...        []   \n",
       "4  [('Rated 4.0', 'RATED\\n  Very good restaurant ...        []   \n",
       "\n",
       "  listed_in(type) listed_in(city)  \n",
       "0          Buffet    Banashankari  \n",
       "1          Buffet    Banashankari  \n",
       "2          Buffet    Banashankari  \n",
       "3          Buffet    Banashankari  \n",
       "4          Buffet    Banashankari  "
      ]
     },
     "execution_count": 2,
     "metadata": {},
     "output_type": "execute_result"
    }
   ],
   "source": [
    "# Load the data in data usig data.read_csv.\n",
    "data=pd.read_csv('zomato.csv')\n",
    "data.head()"
   ]
  },
  {
   "cell_type": "markdown",
   "id": "25d79233",
   "metadata": {
    "papermill": {
     "duration": 0.013841,
     "end_time": "2022-07-21T09:39:34.243393",
     "exception": false,
     "start_time": "2022-07-21T09:39:34.229552",
     "status": "completed"
    },
    "tags": []
   },
   "source": [
    "# Data Cleaning\n"
   ]
  },
  {
   "cell_type": "markdown",
   "id": "b6235510",
   "metadata": {
    "papermill": {
     "duration": 0.013867,
     "end_time": "2022-07-21T09:39:34.271438",
     "exception": false,
     "start_time": "2022-07-21T09:39:34.257571",
     "status": "completed"
    },
    "tags": []
   },
   "source": [
    "![](https://i.gifer.com/2JU.gif)"
   ]
  },
  {
   "cell_type": "code",
   "execution_count": 47,
   "id": "8478c00e",
   "metadata": {
    "execution": {
     "iopub.execute_input": "2022-07-21T09:39:34.302441Z",
     "iopub.status.busy": "2022-07-21T09:39:34.301446Z",
     "iopub.status.idle": "2022-07-21T09:39:34.307991Z",
     "shell.execute_reply": "2022-07-21T09:39:34.306934Z"
    },
    "papermill": {
     "duration": 0.02438,
     "end_time": "2022-07-21T09:39:34.310249",
     "exception": false,
     "start_time": "2022-07-21T09:39:34.285869",
     "status": "completed"
    },
    "tags": []
   },
   "outputs": [
    {
     "data": {
      "text/plain": [
       "(51717, 17)"
      ]
     },
     "execution_count": 47,
     "metadata": {},
     "output_type": "execute_result"
    }
   ],
   "source": [
    "#size before cleaning\n",
    "data.shape"
   ]
  },
  {
   "cell_type": "code",
   "execution_count": 48,
   "id": "2ea683b9",
   "metadata": {
    "execution": {
     "iopub.execute_input": "2022-07-21T09:39:34.340684Z",
     "iopub.status.busy": "2022-07-21T09:39:34.339987Z",
     "iopub.status.idle": "2022-07-21T09:39:34.346994Z",
     "shell.execute_reply": "2022-07-21T09:39:34.345846Z"
    },
    "papermill": {
     "duration": 0.024426,
     "end_time": "2022-07-21T09:39:34.349071",
     "exception": false,
     "start_time": "2022-07-21T09:39:34.324645",
     "status": "completed"
    },
    "tags": []
   },
   "outputs": [
    {
     "data": {
      "text/plain": [
       "Index(['url', 'address', 'name', 'online_order', 'book_table', 'rate', 'votes',\n",
       "       'phone', 'location', 'rest_type', 'dish_liked', 'cuisines',\n",
       "       'approx_cost(for two people)', 'reviews_list', 'menu_item',\n",
       "       'listed_in(type)', 'listed_in(city)'],\n",
       "      dtype='object')"
      ]
     },
     "execution_count": 48,
     "metadata": {},
     "output_type": "execute_result"
    }
   ],
   "source": [
    "data.columns"
   ]
  },
  {
   "cell_type": "code",
   "execution_count": 3,
   "id": "1bb63135",
   "metadata": {
    "execution": {
     "iopub.execute_input": "2022-07-21T09:39:34.379736Z",
     "iopub.status.busy": "2022-07-21T09:39:34.378905Z",
     "iopub.status.idle": "2022-07-21T09:39:34.433903Z",
     "shell.execute_reply": "2022-07-21T09:39:34.432927Z"
    },
    "papermill": {
     "duration": 0.072592,
     "end_time": "2022-07-21T09:39:34.435999",
     "exception": false,
     "start_time": "2022-07-21T09:39:34.363407",
     "status": "completed"
    },
    "tags": []
   },
   "outputs": [
    {
     "data": {
      "text/plain": [
       "url                                0\n",
       "address                            0\n",
       "name                               0\n",
       "online_order                       0\n",
       "book_table                         0\n",
       "rate                            7775\n",
       "votes                              0\n",
       "phone                           1208\n",
       "location                          21\n",
       "rest_type                        227\n",
       "dish_liked                     28078\n",
       "cuisines                          45\n",
       "approx_cost(for two people)      346\n",
       "reviews_list                       0\n",
       "menu_item                          0\n",
       "listed_in(type)                    0\n",
       "listed_in(city)                    0\n",
       "dtype: int64"
      ]
     },
     "execution_count": 3,
     "metadata": {},
     "output_type": "execute_result"
    }
   ],
   "source": [
    "data.isnull().sum()"
   ]
  },
  {
   "cell_type": "markdown",
   "id": "34c7943e",
   "metadata": {
    "papermill": {
     "duration": 0.017583,
     "end_time": "2022-07-21T09:39:34.469731",
     "exception": false,
     "start_time": "2022-07-21T09:39:34.452148",
     "status": "completed"
    },
    "tags": []
   },
   "source": [
    "**As we can observe, We don't need columns like 'url','phone' etc. as they cant be used to analyse the data**\n",
    "\n",
    "**So we will simply drop it**"
   ]
  },
  {
   "cell_type": "code",
   "execution_count": 4,
   "id": "dcaeeed6",
   "metadata": {
    "execution": {
     "iopub.execute_input": "2022-07-21T09:39:34.507150Z",
     "iopub.status.busy": "2022-07-21T09:39:34.506022Z",
     "iopub.status.idle": "2022-07-21T09:39:34.533453Z",
     "shell.execute_reply": "2022-07-21T09:39:34.532710Z"
    },
    "papermill": {
     "duration": 0.049466,
     "end_time": "2022-07-21T09:39:34.535459",
     "exception": false,
     "start_time": "2022-07-21T09:39:34.485993",
     "status": "completed"
    },
    "tags": []
   },
   "outputs": [
    {
     "data": {
      "text/html": [
       "<div>\n",
       "<style scoped>\n",
       "    .dataframe tbody tr th:only-of-type {\n",
       "        vertical-align: middle;\n",
       "    }\n",
       "\n",
       "    .dataframe tbody tr th {\n",
       "        vertical-align: top;\n",
       "    }\n",
       "\n",
       "    .dataframe thead th {\n",
       "        text-align: right;\n",
       "    }\n",
       "</style>\n",
       "<table border=\"1\" class=\"dataframe\">\n",
       "  <thead>\n",
       "    <tr style=\"text-align: right;\">\n",
       "      <th></th>\n",
       "      <th>name</th>\n",
       "      <th>online_order</th>\n",
       "      <th>book_table</th>\n",
       "      <th>rate</th>\n",
       "      <th>votes</th>\n",
       "      <th>location</th>\n",
       "      <th>rest_type</th>\n",
       "      <th>cuisines</th>\n",
       "      <th>approx_cost(for two people)</th>\n",
       "      <th>listed_in(type)</th>\n",
       "      <th>listed_in(city)</th>\n",
       "    </tr>\n",
       "  </thead>\n",
       "  <tbody>\n",
       "    <tr>\n",
       "      <th>0</th>\n",
       "      <td>Jalsa</td>\n",
       "      <td>Yes</td>\n",
       "      <td>Yes</td>\n",
       "      <td>4.1/5</td>\n",
       "      <td>775</td>\n",
       "      <td>Banashankari</td>\n",
       "      <td>Casual Dining</td>\n",
       "      <td>North Indian, Mughlai, Chinese</td>\n",
       "      <td>800</td>\n",
       "      <td>Buffet</td>\n",
       "      <td>Banashankari</td>\n",
       "    </tr>\n",
       "    <tr>\n",
       "      <th>1</th>\n",
       "      <td>Spice Elephant</td>\n",
       "      <td>Yes</td>\n",
       "      <td>No</td>\n",
       "      <td>4.1/5</td>\n",
       "      <td>787</td>\n",
       "      <td>Banashankari</td>\n",
       "      <td>Casual Dining</td>\n",
       "      <td>Chinese, North Indian, Thai</td>\n",
       "      <td>800</td>\n",
       "      <td>Buffet</td>\n",
       "      <td>Banashankari</td>\n",
       "    </tr>\n",
       "    <tr>\n",
       "      <th>2</th>\n",
       "      <td>San Churro Cafe</td>\n",
       "      <td>Yes</td>\n",
       "      <td>No</td>\n",
       "      <td>3.8/5</td>\n",
       "      <td>918</td>\n",
       "      <td>Banashankari</td>\n",
       "      <td>Cafe, Casual Dining</td>\n",
       "      <td>Cafe, Mexican, Italian</td>\n",
       "      <td>800</td>\n",
       "      <td>Buffet</td>\n",
       "      <td>Banashankari</td>\n",
       "    </tr>\n",
       "    <tr>\n",
       "      <th>3</th>\n",
       "      <td>Addhuri Udupi Bhojana</td>\n",
       "      <td>No</td>\n",
       "      <td>No</td>\n",
       "      <td>3.7/5</td>\n",
       "      <td>88</td>\n",
       "      <td>Banashankari</td>\n",
       "      <td>Quick Bites</td>\n",
       "      <td>South Indian, North Indian</td>\n",
       "      <td>300</td>\n",
       "      <td>Buffet</td>\n",
       "      <td>Banashankari</td>\n",
       "    </tr>\n",
       "    <tr>\n",
       "      <th>4</th>\n",
       "      <td>Grand Village</td>\n",
       "      <td>No</td>\n",
       "      <td>No</td>\n",
       "      <td>3.8/5</td>\n",
       "      <td>166</td>\n",
       "      <td>Basavanagudi</td>\n",
       "      <td>Casual Dining</td>\n",
       "      <td>North Indian, Rajasthani</td>\n",
       "      <td>600</td>\n",
       "      <td>Buffet</td>\n",
       "      <td>Banashankari</td>\n",
       "    </tr>\n",
       "  </tbody>\n",
       "</table>\n",
       "</div>"
      ],
      "text/plain": [
       "                    name online_order book_table   rate  votes      location  \\\n",
       "0                  Jalsa          Yes        Yes  4.1/5    775  Banashankari   \n",
       "1         Spice Elephant          Yes         No  4.1/5    787  Banashankari   \n",
       "2        San Churro Cafe          Yes         No  3.8/5    918  Banashankari   \n",
       "3  Addhuri Udupi Bhojana           No         No  3.7/5     88  Banashankari   \n",
       "4          Grand Village           No         No  3.8/5    166  Basavanagudi   \n",
       "\n",
       "             rest_type                        cuisines  \\\n",
       "0        Casual Dining  North Indian, Mughlai, Chinese   \n",
       "1        Casual Dining     Chinese, North Indian, Thai   \n",
       "2  Cafe, Casual Dining          Cafe, Mexican, Italian   \n",
       "3          Quick Bites      South Indian, North Indian   \n",
       "4        Casual Dining        North Indian, Rajasthani   \n",
       "\n",
       "  approx_cost(for two people) listed_in(type) listed_in(city)  \n",
       "0                         800          Buffet    Banashankari  \n",
       "1                         800          Buffet    Banashankari  \n",
       "2                         800          Buffet    Banashankari  \n",
       "3                         300          Buffet    Banashankari  \n",
       "4                         600          Buffet    Banashankari  "
      ]
     },
     "execution_count": 4,
     "metadata": {},
     "output_type": "execute_result"
    }
   ],
   "source": [
    "# droping all unnecessary columns\n",
    "data=data.drop(['url','address','phone','dish_liked','reviews_list','menu_item'], axis=1)\n",
    "data.head()"
   ]
  },
  {
   "cell_type": "markdown",
   "id": "137561b8",
   "metadata": {
    "papermill": {
     "duration": 0.014696,
     "end_time": "2022-07-21T09:39:34.565135",
     "exception": false,
     "start_time": "2022-07-21T09:39:34.550439",
     "status": "completed"
    },
    "tags": []
   },
   "source": [
    "# new Data"
   ]
  },
  {
   "cell_type": "code",
   "execution_count": 5,
   "id": "2d44c3ed",
   "metadata": {
    "execution": {
     "iopub.execute_input": "2022-07-21T09:39:34.596575Z",
     "iopub.status.busy": "2022-07-21T09:39:34.596209Z",
     "iopub.status.idle": "2022-07-21T09:39:34.638525Z",
     "shell.execute_reply": "2022-07-21T09:39:34.637618Z"
    },
    "papermill": {
     "duration": 0.061578,
     "end_time": "2022-07-21T09:39:34.641605",
     "exception": false,
     "start_time": "2022-07-21T09:39:34.580027",
     "status": "completed"
    },
    "tags": []
   },
   "outputs": [
    {
     "name": "stdout",
     "output_type": "stream",
     "text": [
      "<class 'pandas.core.frame.DataFrame'>\n",
      "RangeIndex: 51717 entries, 0 to 51716\n",
      "Data columns (total 11 columns):\n",
      " #   Column                       Non-Null Count  Dtype \n",
      "---  ------                       --------------  ----- \n",
      " 0   name                         51717 non-null  object\n",
      " 1   online_order                 51717 non-null  object\n",
      " 2   book_table                   51717 non-null  object\n",
      " 3   rate                         43942 non-null  object\n",
      " 4   votes                        51717 non-null  int64 \n",
      " 5   location                     51696 non-null  object\n",
      " 6   rest_type                    51490 non-null  object\n",
      " 7   cuisines                     51672 non-null  object\n",
      " 8   approx_cost(for two people)  51371 non-null  object\n",
      " 9   listed_in(type)              51717 non-null  object\n",
      " 10  listed_in(city)              51717 non-null  object\n",
      "dtypes: int64(1), object(10)\n",
      "memory usage: 4.3+ MB\n"
     ]
    }
   ],
   "source": [
    "data.info()"
   ]
  },
  {
   "cell_type": "markdown",
   "id": "16bf3ea5",
   "metadata": {
    "papermill": {
     "duration": 0.015033,
     "end_time": "2022-07-21T09:39:34.673177",
     "exception": false,
     "start_time": "2022-07-21T09:39:34.658144",
     "status": "completed"
    },
    "tags": []
   },
   "source": [
    "# Checking for Duplicates"
   ]
  },
  {
   "cell_type": "code",
   "execution_count": 6,
   "id": "78b62fec",
   "metadata": {
    "execution": {
     "iopub.execute_input": "2022-07-21T09:39:34.704961Z",
     "iopub.status.busy": "2022-07-21T09:39:34.703874Z",
     "iopub.status.idle": "2022-07-21T09:39:34.760893Z",
     "shell.execute_reply": "2022-07-21T09:39:34.759610Z"
    },
    "papermill": {
     "duration": 0.075375,
     "end_time": "2022-07-21T09:39:34.763457",
     "exception": false,
     "start_time": "2022-07-21T09:39:34.688082",
     "status": "completed"
    },
    "tags": []
   },
   "outputs": [
    {
     "data": {
      "text/plain": [
       "(51609, 11)"
      ]
     },
     "execution_count": 6,
     "metadata": {},
     "output_type": "execute_result"
    }
   ],
   "source": [
    "# drop duplicares if any\n",
    "data.drop_duplicates(inplace = True)\n",
    "data.shape"
   ]
  },
  {
   "cell_type": "code",
   "execution_count": null,
   "id": "d27d7857",
   "metadata": {},
   "outputs": [],
   "source": []
  },
  {
   "cell_type": "code",
   "execution_count": 7,
   "id": "a658af08",
   "metadata": {
    "scrolled": true
   },
   "outputs": [
    {
     "data": {
      "text/plain": [
       "name                              0\n",
       "online_order                      0\n",
       "book_table                        0\n",
       "rate                           7755\n",
       "votes                             0\n",
       "location                         21\n",
       "rest_type                       227\n",
       "cuisines                         45\n",
       "approx_cost(for two people)     344\n",
       "listed_in(type)                   0\n",
       "listed_in(city)                   0\n",
       "dtype: int64"
      ]
     },
     "execution_count": 7,
     "metadata": {},
     "output_type": "execute_result"
    }
   ],
   "source": [
    "data.isnull().sum()"
   ]
  },
  {
   "cell_type": "code",
   "execution_count": 8,
   "id": "ca8fe2a5",
   "metadata": {},
   "outputs": [
    {
     "data": {
      "text/plain": [
       "name                           object\n",
       "online_order                   object\n",
       "book_table                     object\n",
       "rate                           object\n",
       "votes                           int64\n",
       "location                       object\n",
       "rest_type                      object\n",
       "cuisines                       object\n",
       "approx_cost(for two people)    object\n",
       "listed_in(type)                object\n",
       "listed_in(city)                object\n",
       "dtype: object"
      ]
     },
     "execution_count": 8,
     "metadata": {},
     "output_type": "execute_result"
    }
   ],
   "source": [
    "data.dtypes"
   ]
  },
  {
   "cell_type": "markdown",
   "id": "af7bfc4c",
   "metadata": {
    "papermill": {
     "duration": 0.014678,
     "end_time": "2022-07-21T09:39:34.793179",
     "exception": false,
     "start_time": "2022-07-21T09:39:34.778501",
     "status": "completed"
    },
    "tags": []
   },
   "source": [
    "# EDA Steps- Analysizing each Column"
   ]
  },
  {
   "cell_type": "markdown",
   "id": "903e95bc",
   "metadata": {
    "papermill": {
     "duration": 0.014792,
     "end_time": "2022-07-21T09:39:34.822879",
     "exception": false,
     "start_time": "2022-07-21T09:39:34.808087",
     "status": "completed"
    },
    "tags": []
   },
   "source": [
    "![](https://i.gifer.com/7yrz.gif)"
   ]
  },
  {
   "cell_type": "markdown",
   "id": "49b93ab9",
   "metadata": {
    "papermill": {
     "duration": 0.014895,
     "end_time": "2022-07-21T09:39:34.852769",
     "exception": false,
     "start_time": "2022-07-21T09:39:34.837874",
     "status": "completed"
    },
    "tags": []
   },
   "source": [
    "### Analysing Rating column "
   ]
  },
  {
   "cell_type": "code",
   "execution_count": 9,
   "id": "d029c7af",
   "metadata": {
    "execution": {
     "iopub.execute_input": "2022-07-21T09:39:34.884816Z",
     "iopub.status.busy": "2022-07-21T09:39:34.884370Z",
     "iopub.status.idle": "2022-07-21T09:39:34.894566Z",
     "shell.execute_reply": "2022-07-21T09:39:34.893315Z"
    },
    "papermill": {
     "duration": 0.028805,
     "end_time": "2022-07-21T09:39:34.896571",
     "exception": false,
     "start_time": "2022-07-21T09:39:34.867766",
     "status": "completed"
    },
    "tags": []
   },
   "outputs": [
    {
     "data": {
      "text/plain": [
       "array(['4.1/5', '3.8/5', '3.7/5', '3.6/5', '4.6/5', '4.0/5', '4.2/5',\n",
       "       '3.9/5', '3.1/5', '3.0/5', '3.2/5', '3.3/5', '2.8/5', '4.4/5',\n",
       "       '4.3/5', 'NEW', '2.9/5', '3.5/5', nan, '2.6/5', '3.8 /5', '3.4/5',\n",
       "       '4.5/5', '2.5/5', '2.7/5', '4.7/5', '2.4/5', '2.2/5', '2.3/5',\n",
       "       '3.4 /5', '-', '3.6 /5', '4.8/5', '3.9 /5', '4.2 /5', '4.0 /5',\n",
       "       '4.1 /5', '3.7 /5', '3.1 /5', '2.9 /5', '3.3 /5', '2.8 /5',\n",
       "       '3.5 /5', '2.7 /5', '2.5 /5', '3.2 /5', '2.6 /5', '4.5 /5',\n",
       "       '4.3 /5', '4.4 /5', '4.9/5', '2.1/5', '2.0/5', '1.8/5', '4.6 /5',\n",
       "       '4.9 /5', '3.0 /5', '4.8 /5', '2.3 /5', '4.7 /5', '2.4 /5',\n",
       "       '2.1 /5', '2.2 /5', '2.0 /5', '1.8 /5'], dtype=object)"
      ]
     },
     "execution_count": 9,
     "metadata": {},
     "output_type": "execute_result"
    }
   ],
   "source": [
    "data['rate'].unique()"
   ]
  },
  {
   "cell_type": "markdown",
   "id": "fb56e4b2",
   "metadata": {
    "papermill": {
     "duration": 0.015464,
     "end_time": "2022-07-21T09:39:34.927504",
     "exception": false,
     "start_time": "2022-07-21T09:39:34.912040",
     "status": "completed"
    },
    "tags": []
   },
   "source": [
    "#### we can se there are some faulty values like NEW and - in data and apart from that other values are in form like 3.3/5 but we need float values like 3.3"
   ]
  },
  {
   "cell_type": "markdown",
   "id": "8c20ab0a",
   "metadata": {
    "papermill": {
     "duration": 0.014742,
     "end_time": "2022-07-21T09:39:34.957256",
     "exception": false,
     "start_time": "2022-07-21T09:39:34.942514",
     "status": "completed"
    },
    "tags": []
   },
   "source": [
    "# Function to remove 'new' and '-' and '/5' fro, rating"
   ]
  },
  {
   "cell_type": "code",
   "execution_count": 10,
   "id": "d0603e29",
   "metadata": {
    "execution": {
     "iopub.execute_input": "2022-07-21T09:39:34.989734Z",
     "iopub.status.busy": "2022-07-21T09:39:34.989339Z",
     "iopub.status.idle": "2022-07-21T09:39:35.043778Z",
     "shell.execute_reply": "2022-07-21T09:39:35.042607Z"
    },
    "papermill": {
     "duration": 0.073542,
     "end_time": "2022-07-21T09:39:35.046000",
     "exception": false,
     "start_time": "2022-07-21T09:39:34.972458",
     "status": "completed"
    },
    "tags": []
   },
   "outputs": [
    {
     "data": {
      "text/plain": [
       "0    4.1\n",
       "1    4.1\n",
       "2    3.8\n",
       "3    3.7\n",
       "4    3.8\n",
       "Name: rate, dtype: float64"
      ]
     },
     "execution_count": 10,
     "metadata": {},
     "output_type": "execute_result"
    }
   ],
   "source": [
    "# We define a function \n",
    "def handlerate(value):\n",
    "    # If value is equal to \"NEW\" or '-' than just remove the values\n",
    "    if(value=='NEW' or value=='-'):\n",
    "        return np.nan\n",
    "    # else split the value for example \n",
    "    else:\n",
    "        # \"3.3/5\" will split it into 3.3 amd /5 ...  value=[3.3][/5]\n",
    "        value=str(value).split('/')\n",
    "        # 3.3 is the first element of the the list so we'll excess it by using value[0]\n",
    "        value=value[0]\n",
    "        # return it by converting it from string to float\n",
    "        return float(value)\n",
    "\n",
    "# apply the function on data.rate    \n",
    "data.rate=data['rate'].apply(handlerate)\n",
    "data.rate.head()"
   ]
  },
  {
   "cell_type": "code",
   "execution_count": 11,
   "id": "4c1a8531",
   "metadata": {
    "execution": {
     "iopub.execute_input": "2022-07-21T09:39:35.078099Z",
     "iopub.status.busy": "2022-07-21T09:39:35.077300Z",
     "iopub.status.idle": "2022-07-21T09:39:35.084541Z",
     "shell.execute_reply": "2022-07-21T09:39:35.083536Z"
    },
    "papermill": {
     "duration": 0.025412,
     "end_time": "2022-07-21T09:39:35.086467",
     "exception": false,
     "start_time": "2022-07-21T09:39:35.061055",
     "status": "completed"
    },
    "tags": []
   },
   "outputs": [
    {
     "data": {
      "text/plain": [
       "10019"
      ]
     },
     "execution_count": 11,
     "metadata": {},
     "output_type": "execute_result"
    }
   ],
   "source": [
    "data.rate.isnull().sum()"
   ]
  },
  {
   "cell_type": "markdown",
   "id": "0ece8661",
   "metadata": {
    "papermill": {
     "duration": 0.014841,
     "end_time": "2022-07-21T09:39:35.116514",
     "exception": false,
     "start_time": "2022-07-21T09:39:35.101673",
     "status": "completed"
    },
    "tags": []
   },
   "source": [
    "# Dealing with NULL values\n",
    "we will fill null values with the average rating"
   ]
  },
  {
   "cell_type": "markdown",
   "id": "2d3d222d",
   "metadata": {
    "papermill": {
     "duration": 0.014781,
     "end_time": "2022-07-21T09:39:35.146314",
     "exception": false,
     "start_time": "2022-07-21T09:39:35.131533",
     "status": "completed"
    },
    "tags": []
   },
   "source": [
    "![](https://i.gifer.com/2GU.gif)"
   ]
  },
  {
   "cell_type": "code",
   "execution_count": 12,
   "id": "bce8b34b",
   "metadata": {
    "execution": {
     "iopub.execute_input": "2022-07-21T09:39:35.178518Z",
     "iopub.status.busy": "2022-07-21T09:39:35.177797Z",
     "iopub.status.idle": "2022-07-21T09:39:35.185618Z",
     "shell.execute_reply": "2022-07-21T09:39:35.184894Z"
    },
    "papermill": {
     "duration": 0.026149,
     "end_time": "2022-07-21T09:39:35.187457",
     "exception": false,
     "start_time": "2022-07-21T09:39:35.161308",
     "status": "completed"
    },
    "tags": []
   },
   "outputs": [
    {
     "data": {
      "text/plain": [
       "0"
      ]
     },
     "execution_count": 12,
     "metadata": {},
     "output_type": "execute_result"
    }
   ],
   "source": [
    "# data.fillna is used to fill NaN values and we have filled them with the mean values of raing\n",
    "data.rate.fillna(data.rate.mean(), inplace=True)\n",
    "# check is any null values left\n",
    "data.rate.isnull().sum()"
   ]
  },
  {
   "cell_type": "markdown",
   "id": "5a6cc982",
   "metadata": {
    "papermill": {
     "duration": 0.015223,
     "end_time": "2022-07-21T09:39:35.218612",
     "exception": false,
     "start_time": "2022-07-21T09:39:35.203389",
     "status": "completed"
    },
    "tags": []
   },
   "source": [
    "# NULL values of other columns can't be predicted as they are strings so we will drop them"
   ]
  },
  {
   "cell_type": "code",
   "execution_count": 13,
   "id": "161ad017",
   "metadata": {
    "execution": {
     "iopub.execute_input": "2022-07-21T09:39:35.250654Z",
     "iopub.status.busy": "2022-07-21T09:39:35.250282Z",
     "iopub.status.idle": "2022-07-21T09:39:35.295157Z",
     "shell.execute_reply": "2022-07-21T09:39:35.294119Z"
    },
    "papermill": {
     "duration": 0.063626,
     "end_time": "2022-07-21T09:39:35.297463",
     "exception": false,
     "start_time": "2022-07-21T09:39:35.233837",
     "status": "completed"
    },
    "tags": []
   },
   "outputs": [
    {
     "data": {
      "text/html": [
       "<div>\n",
       "<style scoped>\n",
       "    .dataframe tbody tr th:only-of-type {\n",
       "        vertical-align: middle;\n",
       "    }\n",
       "\n",
       "    .dataframe tbody tr th {\n",
       "        vertical-align: top;\n",
       "    }\n",
       "\n",
       "    .dataframe thead th {\n",
       "        text-align: right;\n",
       "    }\n",
       "</style>\n",
       "<table border=\"1\" class=\"dataframe\">\n",
       "  <thead>\n",
       "    <tr style=\"text-align: right;\">\n",
       "      <th></th>\n",
       "      <th>name</th>\n",
       "      <th>online_order</th>\n",
       "      <th>book_table</th>\n",
       "      <th>rate</th>\n",
       "      <th>votes</th>\n",
       "      <th>location</th>\n",
       "      <th>rest_type</th>\n",
       "      <th>cuisines</th>\n",
       "      <th>approx_cost(for two people)</th>\n",
       "      <th>listed_in(type)</th>\n",
       "      <th>listed_in(city)</th>\n",
       "    </tr>\n",
       "  </thead>\n",
       "  <tbody>\n",
       "    <tr>\n",
       "      <th>0</th>\n",
       "      <td>Jalsa</td>\n",
       "      <td>Yes</td>\n",
       "      <td>Yes</td>\n",
       "      <td>4.1</td>\n",
       "      <td>775</td>\n",
       "      <td>Banashankari</td>\n",
       "      <td>Casual Dining</td>\n",
       "      <td>North Indian, Mughlai, Chinese</td>\n",
       "      <td>800</td>\n",
       "      <td>Buffet</td>\n",
       "      <td>Banashankari</td>\n",
       "    </tr>\n",
       "    <tr>\n",
       "      <th>1</th>\n",
       "      <td>Spice Elephant</td>\n",
       "      <td>Yes</td>\n",
       "      <td>No</td>\n",
       "      <td>4.1</td>\n",
       "      <td>787</td>\n",
       "      <td>Banashankari</td>\n",
       "      <td>Casual Dining</td>\n",
       "      <td>Chinese, North Indian, Thai</td>\n",
       "      <td>800</td>\n",
       "      <td>Buffet</td>\n",
       "      <td>Banashankari</td>\n",
       "    </tr>\n",
       "    <tr>\n",
       "      <th>2</th>\n",
       "      <td>San Churro Cafe</td>\n",
       "      <td>Yes</td>\n",
       "      <td>No</td>\n",
       "      <td>3.8</td>\n",
       "      <td>918</td>\n",
       "      <td>Banashankari</td>\n",
       "      <td>Cafe, Casual Dining</td>\n",
       "      <td>Cafe, Mexican, Italian</td>\n",
       "      <td>800</td>\n",
       "      <td>Buffet</td>\n",
       "      <td>Banashankari</td>\n",
       "    </tr>\n",
       "    <tr>\n",
       "      <th>3</th>\n",
       "      <td>Addhuri Udupi Bhojana</td>\n",
       "      <td>No</td>\n",
       "      <td>No</td>\n",
       "      <td>3.7</td>\n",
       "      <td>88</td>\n",
       "      <td>Banashankari</td>\n",
       "      <td>Quick Bites</td>\n",
       "      <td>South Indian, North Indian</td>\n",
       "      <td>300</td>\n",
       "      <td>Buffet</td>\n",
       "      <td>Banashankari</td>\n",
       "    </tr>\n",
       "    <tr>\n",
       "      <th>4</th>\n",
       "      <td>Grand Village</td>\n",
       "      <td>No</td>\n",
       "      <td>No</td>\n",
       "      <td>3.8</td>\n",
       "      <td>166</td>\n",
       "      <td>Basavanagudi</td>\n",
       "      <td>Casual Dining</td>\n",
       "      <td>North Indian, Rajasthani</td>\n",
       "      <td>600</td>\n",
       "      <td>Buffet</td>\n",
       "      <td>Banashankari</td>\n",
       "    </tr>\n",
       "  </tbody>\n",
       "</table>\n",
       "</div>"
      ],
      "text/plain": [
       "                    name online_order book_table  rate  votes      location  \\\n",
       "0                  Jalsa          Yes        Yes   4.1    775  Banashankari   \n",
       "1         Spice Elephant          Yes         No   4.1    787  Banashankari   \n",
       "2        San Churro Cafe          Yes         No   3.8    918  Banashankari   \n",
       "3  Addhuri Udupi Bhojana           No         No   3.7     88  Banashankari   \n",
       "4          Grand Village           No         No   3.8    166  Basavanagudi   \n",
       "\n",
       "             rest_type                        cuisines  \\\n",
       "0        Casual Dining  North Indian, Mughlai, Chinese   \n",
       "1        Casual Dining     Chinese, North Indian, Thai   \n",
       "2  Cafe, Casual Dining          Cafe, Mexican, Italian   \n",
       "3          Quick Bites      South Indian, North Indian   \n",
       "4        Casual Dining        North Indian, Rajasthani   \n",
       "\n",
       "  approx_cost(for two people) listed_in(type) listed_in(city)  \n",
       "0                         800          Buffet    Banashankari  \n",
       "1                         800          Buffet    Banashankari  \n",
       "2                         800          Buffet    Banashankari  \n",
       "3                         300          Buffet    Banashankari  \n",
       "4                         600          Buffet    Banashankari  "
      ]
     },
     "execution_count": 13,
     "metadata": {},
     "output_type": "execute_result"
    }
   ],
   "source": [
    "data.dropna(inplace=True)\n",
    "data.head()"
   ]
  },
  {
   "cell_type": "code",
   "execution_count": 14,
   "id": "9e7cf34b",
   "metadata": {
    "execution": {
     "iopub.execute_input": "2022-07-21T09:39:35.331012Z",
     "iopub.status.busy": "2022-07-21T09:39:35.330646Z",
     "iopub.status.idle": "2022-07-21T09:39:35.360389Z",
     "shell.execute_reply": "2022-07-21T09:39:35.359381Z"
    },
    "papermill": {
     "duration": 0.049135,
     "end_time": "2022-07-21T09:39:35.362758",
     "exception": false,
     "start_time": "2022-07-21T09:39:35.313623",
     "status": "completed"
    },
    "tags": []
   },
   "outputs": [
    {
     "data": {
      "text/plain": [
       "name                           0\n",
       "online_order                   0\n",
       "book_table                     0\n",
       "rate                           0\n",
       "votes                          0\n",
       "location                       0\n",
       "rest_type                      0\n",
       "cuisines                       0\n",
       "approx_cost(for two people)    0\n",
       "listed_in(type)                0\n",
       "listed_in(city)                0\n",
       "dtype: int64"
      ]
     },
     "execution_count": 14,
     "metadata": {},
     "output_type": "execute_result"
    }
   ],
   "source": [
    "# we have no null value left now\n",
    "data.isnull().sum()"
   ]
  },
  {
   "cell_type": "code",
   "execution_count": 15,
   "id": "934dd0a5",
   "metadata": {},
   "outputs": [
    {
     "data": {
      "text/plain": [
       "(51042, 11)"
      ]
     },
     "execution_count": 15,
     "metadata": {},
     "output_type": "execute_result"
    }
   ],
   "source": [
    "data.shape"
   ]
  },
  {
   "cell_type": "markdown",
   "id": "ef51f4fc",
   "metadata": {
    "papermill": {
     "duration": 0.0153,
     "end_time": "2022-07-21T09:39:35.393744",
     "exception": false,
     "start_time": "2022-07-21T09:39:35.378444",
     "status": "completed"
    },
    "tags": []
   },
   "source": [
    "# Cost columns Analysis"
   ]
  },
  {
   "cell_type": "code",
   "execution_count": 16,
   "id": "125f52a6",
   "metadata": {
    "execution": {
     "iopub.execute_input": "2022-07-21T09:39:35.426608Z",
     "iopub.status.busy": "2022-07-21T09:39:35.426204Z",
     "iopub.status.idle": "2022-07-21T09:39:35.442723Z",
     "shell.execute_reply": "2022-07-21T09:39:35.441535Z"
    },
    "papermill": {
     "duration": 0.035577,
     "end_time": "2022-07-21T09:39:35.444858",
     "exception": false,
     "start_time": "2022-07-21T09:39:35.409281",
     "status": "completed"
    },
    "tags": []
   },
   "outputs": [
    {
     "data": {
      "text/html": [
       "<div>\n",
       "<style scoped>\n",
       "    .dataframe tbody tr th:only-of-type {\n",
       "        vertical-align: middle;\n",
       "    }\n",
       "\n",
       "    .dataframe tbody tr th {\n",
       "        vertical-align: top;\n",
       "    }\n",
       "\n",
       "    .dataframe thead th {\n",
       "        text-align: right;\n",
       "    }\n",
       "</style>\n",
       "<table border=\"1\" class=\"dataframe\">\n",
       "  <thead>\n",
       "    <tr style=\"text-align: right;\">\n",
       "      <th></th>\n",
       "      <th>name</th>\n",
       "      <th>online_order</th>\n",
       "      <th>book_table</th>\n",
       "      <th>rate</th>\n",
       "      <th>votes</th>\n",
       "      <th>location</th>\n",
       "      <th>rest_type</th>\n",
       "      <th>cuisines</th>\n",
       "      <th>Cost2Plates</th>\n",
       "      <th>Type</th>\n",
       "      <th>listed_in(city)</th>\n",
       "    </tr>\n",
       "  </thead>\n",
       "  <tbody>\n",
       "    <tr>\n",
       "      <th>0</th>\n",
       "      <td>Jalsa</td>\n",
       "      <td>Yes</td>\n",
       "      <td>Yes</td>\n",
       "      <td>4.1</td>\n",
       "      <td>775</td>\n",
       "      <td>Banashankari</td>\n",
       "      <td>Casual Dining</td>\n",
       "      <td>North Indian, Mughlai, Chinese</td>\n",
       "      <td>800</td>\n",
       "      <td>Buffet</td>\n",
       "      <td>Banashankari</td>\n",
       "    </tr>\n",
       "    <tr>\n",
       "      <th>1</th>\n",
       "      <td>Spice Elephant</td>\n",
       "      <td>Yes</td>\n",
       "      <td>No</td>\n",
       "      <td>4.1</td>\n",
       "      <td>787</td>\n",
       "      <td>Banashankari</td>\n",
       "      <td>Casual Dining</td>\n",
       "      <td>Chinese, North Indian, Thai</td>\n",
       "      <td>800</td>\n",
       "      <td>Buffet</td>\n",
       "      <td>Banashankari</td>\n",
       "    </tr>\n",
       "    <tr>\n",
       "      <th>2</th>\n",
       "      <td>San Churro Cafe</td>\n",
       "      <td>Yes</td>\n",
       "      <td>No</td>\n",
       "      <td>3.8</td>\n",
       "      <td>918</td>\n",
       "      <td>Banashankari</td>\n",
       "      <td>Cafe, Casual Dining</td>\n",
       "      <td>Cafe, Mexican, Italian</td>\n",
       "      <td>800</td>\n",
       "      <td>Buffet</td>\n",
       "      <td>Banashankari</td>\n",
       "    </tr>\n",
       "    <tr>\n",
       "      <th>3</th>\n",
       "      <td>Addhuri Udupi Bhojana</td>\n",
       "      <td>No</td>\n",
       "      <td>No</td>\n",
       "      <td>3.7</td>\n",
       "      <td>88</td>\n",
       "      <td>Banashankari</td>\n",
       "      <td>Quick Bites</td>\n",
       "      <td>South Indian, North Indian</td>\n",
       "      <td>300</td>\n",
       "      <td>Buffet</td>\n",
       "      <td>Banashankari</td>\n",
       "    </tr>\n",
       "    <tr>\n",
       "      <th>4</th>\n",
       "      <td>Grand Village</td>\n",
       "      <td>No</td>\n",
       "      <td>No</td>\n",
       "      <td>3.8</td>\n",
       "      <td>166</td>\n",
       "      <td>Basavanagudi</td>\n",
       "      <td>Casual Dining</td>\n",
       "      <td>North Indian, Rajasthani</td>\n",
       "      <td>600</td>\n",
       "      <td>Buffet</td>\n",
       "      <td>Banashankari</td>\n",
       "    </tr>\n",
       "  </tbody>\n",
       "</table>\n",
       "</div>"
      ],
      "text/plain": [
       "                    name online_order book_table  rate  votes      location  \\\n",
       "0                  Jalsa          Yes        Yes   4.1    775  Banashankari   \n",
       "1         Spice Elephant          Yes         No   4.1    787  Banashankari   \n",
       "2        San Churro Cafe          Yes         No   3.8    918  Banashankari   \n",
       "3  Addhuri Udupi Bhojana           No         No   3.7     88  Banashankari   \n",
       "4          Grand Village           No         No   3.8    166  Basavanagudi   \n",
       "\n",
       "             rest_type                        cuisines Cost2Plates    Type  \\\n",
       "0        Casual Dining  North Indian, Mughlai, Chinese         800  Buffet   \n",
       "1        Casual Dining     Chinese, North Indian, Thai         800  Buffet   \n",
       "2  Cafe, Casual Dining          Cafe, Mexican, Italian         800  Buffet   \n",
       "3          Quick Bites      South Indian, North Indian         300  Buffet   \n",
       "4        Casual Dining        North Indian, Rajasthani         600  Buffet   \n",
       "\n",
       "  listed_in(city)  \n",
       "0    Banashankari  \n",
       "1    Banashankari  \n",
       "2    Banashankari  \n",
       "3    Banashankari  \n",
       "4    Banashankari  "
      ]
     },
     "execution_count": 16,
     "metadata": {},
     "output_type": "execute_result"
    }
   ],
   "source": [
    "# as name of the column is very long we will simply change it\n",
    "data.rename(columns = {'approx_cost(for two people)':'Cost2Plates','listed_in(type)':'Type'},inplace=True)\n",
    "data.head()\n",
    "# city and location both contain address so dropping one"
   ]
  },
  {
   "cell_type": "code",
   "execution_count": 17,
   "id": "a757ae36",
   "metadata": {
    "execution": {
     "iopub.execute_input": "2022-07-21T09:39:35.478480Z",
     "iopub.status.busy": "2022-07-21T09:39:35.478111Z",
     "iopub.status.idle": "2022-07-21T09:39:35.498414Z",
     "shell.execute_reply": "2022-07-21T09:39:35.497392Z"
    },
    "papermill": {
     "duration": 0.039482,
     "end_time": "2022-07-21T09:39:35.500444",
     "exception": false,
     "start_time": "2022-07-21T09:39:35.460962",
     "status": "completed"
    },
    "tags": []
   },
   "outputs": [
    {
     "data": {
      "text/html": [
       "<div>\n",
       "<style scoped>\n",
       "    .dataframe tbody tr th:only-of-type {\n",
       "        vertical-align: middle;\n",
       "    }\n",
       "\n",
       "    .dataframe tbody tr th {\n",
       "        vertical-align: top;\n",
       "    }\n",
       "\n",
       "    .dataframe thead th {\n",
       "        text-align: right;\n",
       "    }\n",
       "</style>\n",
       "<table border=\"1\" class=\"dataframe\">\n",
       "  <thead>\n",
       "    <tr style=\"text-align: right;\">\n",
       "      <th></th>\n",
       "      <th>name</th>\n",
       "      <th>online_order</th>\n",
       "      <th>book_table</th>\n",
       "      <th>rate</th>\n",
       "      <th>votes</th>\n",
       "      <th>location</th>\n",
       "      <th>rest_type</th>\n",
       "      <th>cuisines</th>\n",
       "      <th>Cost2Plates</th>\n",
       "      <th>Type</th>\n",
       "    </tr>\n",
       "  </thead>\n",
       "  <tbody>\n",
       "    <tr>\n",
       "      <th>0</th>\n",
       "      <td>Jalsa</td>\n",
       "      <td>Yes</td>\n",
       "      <td>Yes</td>\n",
       "      <td>4.1</td>\n",
       "      <td>775</td>\n",
       "      <td>Banashankari</td>\n",
       "      <td>Casual Dining</td>\n",
       "      <td>North Indian, Mughlai, Chinese</td>\n",
       "      <td>800</td>\n",
       "      <td>Buffet</td>\n",
       "    </tr>\n",
       "    <tr>\n",
       "      <th>1</th>\n",
       "      <td>Spice Elephant</td>\n",
       "      <td>Yes</td>\n",
       "      <td>No</td>\n",
       "      <td>4.1</td>\n",
       "      <td>787</td>\n",
       "      <td>Banashankari</td>\n",
       "      <td>Casual Dining</td>\n",
       "      <td>Chinese, North Indian, Thai</td>\n",
       "      <td>800</td>\n",
       "      <td>Buffet</td>\n",
       "    </tr>\n",
       "    <tr>\n",
       "      <th>2</th>\n",
       "      <td>San Churro Cafe</td>\n",
       "      <td>Yes</td>\n",
       "      <td>No</td>\n",
       "      <td>3.8</td>\n",
       "      <td>918</td>\n",
       "      <td>Banashankari</td>\n",
       "      <td>Cafe, Casual Dining</td>\n",
       "      <td>Cafe, Mexican, Italian</td>\n",
       "      <td>800</td>\n",
       "      <td>Buffet</td>\n",
       "    </tr>\n",
       "    <tr>\n",
       "      <th>3</th>\n",
       "      <td>Addhuri Udupi Bhojana</td>\n",
       "      <td>No</td>\n",
       "      <td>No</td>\n",
       "      <td>3.7</td>\n",
       "      <td>88</td>\n",
       "      <td>Banashankari</td>\n",
       "      <td>Quick Bites</td>\n",
       "      <td>South Indian, North Indian</td>\n",
       "      <td>300</td>\n",
       "      <td>Buffet</td>\n",
       "    </tr>\n",
       "    <tr>\n",
       "      <th>4</th>\n",
       "      <td>Grand Village</td>\n",
       "      <td>No</td>\n",
       "      <td>No</td>\n",
       "      <td>3.8</td>\n",
       "      <td>166</td>\n",
       "      <td>Basavanagudi</td>\n",
       "      <td>Casual Dining</td>\n",
       "      <td>North Indian, Rajasthani</td>\n",
       "      <td>600</td>\n",
       "      <td>Buffet</td>\n",
       "    </tr>\n",
       "  </tbody>\n",
       "</table>\n",
       "</div>"
      ],
      "text/plain": [
       "                    name online_order book_table  rate  votes      location  \\\n",
       "0                  Jalsa          Yes        Yes   4.1    775  Banashankari   \n",
       "1         Spice Elephant          Yes         No   4.1    787  Banashankari   \n",
       "2        San Churro Cafe          Yes         No   3.8    918  Banashankari   \n",
       "3  Addhuri Udupi Bhojana           No         No   3.7     88  Banashankari   \n",
       "4          Grand Village           No         No   3.8    166  Basavanagudi   \n",
       "\n",
       "             rest_type                        cuisines Cost2Plates    Type  \n",
       "0        Casual Dining  North Indian, Mughlai, Chinese         800  Buffet  \n",
       "1        Casual Dining     Chinese, North Indian, Thai         800  Buffet  \n",
       "2  Cafe, Casual Dining          Cafe, Mexican, Italian         800  Buffet  \n",
       "3          Quick Bites      South Indian, North Indian         300  Buffet  \n",
       "4        Casual Dining        North Indian, Rajasthani         600  Buffet  "
      ]
     },
     "execution_count": 17,
     "metadata": {},
     "output_type": "execute_result"
    }
   ],
   "source": [
    "# city and location both contain address so dropping one\n",
    "data=data.drop(['listed_in(city)'],axis=1)\n",
    "data.head()"
   ]
  },
  {
   "cell_type": "markdown",
   "id": "e4a84bd2",
   "metadata": {
    "papermill": {
     "duration": 0.015597,
     "end_time": "2022-07-21T09:39:35.532006",
     "exception": false,
     "start_time": "2022-07-21T09:39:35.516409",
     "status": "completed"
    },
    "tags": []
   },
   "source": [
    "# Analysing cost2plates column"
   ]
  },
  {
   "cell_type": "code",
   "execution_count": 18,
   "id": "71bb00b2",
   "metadata": {
    "execution": {
     "iopub.execute_input": "2022-07-21T09:39:35.565429Z",
     "iopub.status.busy": "2022-07-21T09:39:35.565052Z",
     "iopub.status.idle": "2022-07-21T09:39:35.574668Z",
     "shell.execute_reply": "2022-07-21T09:39:35.573664Z"
    },
    "papermill": {
     "duration": 0.028604,
     "end_time": "2022-07-21T09:39:35.576457",
     "exception": false,
     "start_time": "2022-07-21T09:39:35.547853",
     "status": "completed"
    },
    "tags": []
   },
   "outputs": [
    {
     "data": {
      "text/plain": [
       "array(['800', '300', '600', '700', '550', '500', '450', '650', '400',\n",
       "       '900', '200', '750', '150', '850', '100', '1,200', '350', '250',\n",
       "       '950', '1,000', '1,500', '1,300', '199', '80', '1,100', '160',\n",
       "       '1,600', '230', '130', '50', '190', '1,700', '1,400', '180',\n",
       "       '1,350', '2,200', '2,000', '1,800', '1,900', '330', '2,500',\n",
       "       '2,100', '3,000', '2,800', '3,400', '40', '1,250', '3,500',\n",
       "       '4,000', '2,400', '2,600', '120', '1,450', '469', '70', '3,200',\n",
       "       '60', '560', '240', '360', '6,000', '1,050', '2,300', '4,100',\n",
       "       '5,000', '3,700', '1,650', '2,700', '4,500', '140'], dtype=object)"
      ]
     },
     "execution_count": 18,
     "metadata": {},
     "output_type": "execute_result"
    }
   ],
   "source": [
    "data.Cost2Plates.unique()"
   ]
  },
  {
   "cell_type": "markdown",
   "id": "2b5b6490",
   "metadata": {
    "papermill": {
     "duration": 0.015845,
     "end_time": "2022-07-21T09:39:35.608396",
     "exception": false,
     "start_time": "2022-07-21T09:39:35.592551",
     "status": "completed"
    },
    "tags": []
   },
   "source": [
    "#### We can see values grater than 999 have \",\" in it\n",
    "For example: 9,945  but we need values in int forms example: 9945\n"
   ]
  },
  {
   "cell_type": "markdown",
   "id": "65e4d34f",
   "metadata": {
    "papermill": {
     "duration": 0.015634,
     "end_time": "2022-07-21T09:39:35.640077",
     "exception": false,
     "start_time": "2022-07-21T09:39:35.624443",
     "status": "completed"
    },
    "tags": []
   },
   "source": [
    "# Function to remove the ',' and converting it into float"
   ]
  },
  {
   "cell_type": "code",
   "execution_count": 19,
   "id": "b8b2fb6b",
   "metadata": {
    "execution": {
     "iopub.execute_input": "2022-07-21T09:39:35.673621Z",
     "iopub.status.busy": "2022-07-21T09:39:35.673232Z",
     "iopub.status.idle": "2022-07-21T09:39:35.714138Z",
     "shell.execute_reply": "2022-07-21T09:39:35.713398Z"
    },
    "papermill": {
     "duration": 0.059897,
     "end_time": "2022-07-21T09:39:35.715958",
     "exception": false,
     "start_time": "2022-07-21T09:39:35.656061",
     "status": "completed"
    },
    "tags": []
   },
   "outputs": [
    {
     "data": {
      "text/plain": [
       "array([ 800,  300,  600,  700,  550,  500,  450,  650,  400,  900,  200,\n",
       "        750,  150,  850,  100, 1200,  350,  250,  950, 1000, 1500, 1300,\n",
       "        199,   80, 1100,  160, 1600,  230,  130,   50,  190, 1700, 1400,\n",
       "        180, 1350, 2200, 2000, 1800, 1900,  330, 2500, 2100, 3000, 2800,\n",
       "       3400,   40, 1250, 3500, 4000, 2400, 2600,  120, 1450,  469,   70,\n",
       "       3200,   60,  560,  240,  360, 6000, 1050, 2300, 4100, 5000, 3700,\n",
       "       1650, 2700, 4500,  140], dtype=int64)"
      ]
     },
     "execution_count": 19,
     "metadata": {},
     "output_type": "execute_result"
    }
   ],
   "source": [
    "def handlecost(value):\n",
    "    value=str(value)\n",
    "    if ',' in value:\n",
    "        # we are simpling Replacing \",\" With no value \"\"\n",
    "        value= value.replace(',','')\n",
    "        return int(value)\n",
    "    else:\n",
    "        return int(value)\n",
    "    \n",
    "data.Cost2Plates=data.Cost2Plates.apply(handlecost)\n",
    "data.Cost2Plates.unique()"
   ]
  },
  {
   "cell_type": "code",
   "execution_count": 20,
   "id": "7872e041",
   "metadata": {
    "execution": {
     "iopub.execute_input": "2022-07-21T09:39:35.750393Z",
     "iopub.status.busy": "2022-07-21T09:39:35.749977Z",
     "iopub.status.idle": "2022-07-21T09:39:35.766128Z",
     "shell.execute_reply": "2022-07-21T09:39:35.765056Z"
    },
    "papermill": {
     "duration": 0.035839,
     "end_time": "2022-07-21T09:39:35.768232",
     "exception": false,
     "start_time": "2022-07-21T09:39:35.732393",
     "status": "completed"
    },
    "tags": []
   },
   "outputs": [
    {
     "data": {
      "text/html": [
       "<div>\n",
       "<style scoped>\n",
       "    .dataframe tbody tr th:only-of-type {\n",
       "        vertical-align: middle;\n",
       "    }\n",
       "\n",
       "    .dataframe tbody tr th {\n",
       "        vertical-align: top;\n",
       "    }\n",
       "\n",
       "    .dataframe thead th {\n",
       "        text-align: right;\n",
       "    }\n",
       "</style>\n",
       "<table border=\"1\" class=\"dataframe\">\n",
       "  <thead>\n",
       "    <tr style=\"text-align: right;\">\n",
       "      <th></th>\n",
       "      <th>name</th>\n",
       "      <th>online_order</th>\n",
       "      <th>book_table</th>\n",
       "      <th>rate</th>\n",
       "      <th>votes</th>\n",
       "      <th>location</th>\n",
       "      <th>rest_type</th>\n",
       "      <th>cuisines</th>\n",
       "      <th>Cost2Plates</th>\n",
       "      <th>Type</th>\n",
       "    </tr>\n",
       "  </thead>\n",
       "  <tbody>\n",
       "    <tr>\n",
       "      <th>0</th>\n",
       "      <td>Jalsa</td>\n",
       "      <td>Yes</td>\n",
       "      <td>Yes</td>\n",
       "      <td>4.1</td>\n",
       "      <td>775</td>\n",
       "      <td>Banashankari</td>\n",
       "      <td>Casual Dining</td>\n",
       "      <td>North Indian, Mughlai, Chinese</td>\n",
       "      <td>800</td>\n",
       "      <td>Buffet</td>\n",
       "    </tr>\n",
       "    <tr>\n",
       "      <th>1</th>\n",
       "      <td>Spice Elephant</td>\n",
       "      <td>Yes</td>\n",
       "      <td>No</td>\n",
       "      <td>4.1</td>\n",
       "      <td>787</td>\n",
       "      <td>Banashankari</td>\n",
       "      <td>Casual Dining</td>\n",
       "      <td>Chinese, North Indian, Thai</td>\n",
       "      <td>800</td>\n",
       "      <td>Buffet</td>\n",
       "    </tr>\n",
       "    <tr>\n",
       "      <th>2</th>\n",
       "      <td>San Churro Cafe</td>\n",
       "      <td>Yes</td>\n",
       "      <td>No</td>\n",
       "      <td>3.8</td>\n",
       "      <td>918</td>\n",
       "      <td>Banashankari</td>\n",
       "      <td>Cafe, Casual Dining</td>\n",
       "      <td>Cafe, Mexican, Italian</td>\n",
       "      <td>800</td>\n",
       "      <td>Buffet</td>\n",
       "    </tr>\n",
       "    <tr>\n",
       "      <th>3</th>\n",
       "      <td>Addhuri Udupi Bhojana</td>\n",
       "      <td>No</td>\n",
       "      <td>No</td>\n",
       "      <td>3.7</td>\n",
       "      <td>88</td>\n",
       "      <td>Banashankari</td>\n",
       "      <td>Quick Bites</td>\n",
       "      <td>South Indian, North Indian</td>\n",
       "      <td>300</td>\n",
       "      <td>Buffet</td>\n",
       "    </tr>\n",
       "    <tr>\n",
       "      <th>4</th>\n",
       "      <td>Grand Village</td>\n",
       "      <td>No</td>\n",
       "      <td>No</td>\n",
       "      <td>3.8</td>\n",
       "      <td>166</td>\n",
       "      <td>Basavanagudi</td>\n",
       "      <td>Casual Dining</td>\n",
       "      <td>North Indian, Rajasthani</td>\n",
       "      <td>600</td>\n",
       "      <td>Buffet</td>\n",
       "    </tr>\n",
       "  </tbody>\n",
       "</table>\n",
       "</div>"
      ],
      "text/plain": [
       "                    name online_order book_table  rate  votes      location  \\\n",
       "0                  Jalsa          Yes        Yes   4.1    775  Banashankari   \n",
       "1         Spice Elephant          Yes         No   4.1    787  Banashankari   \n",
       "2        San Churro Cafe          Yes         No   3.8    918  Banashankari   \n",
       "3  Addhuri Udupi Bhojana           No         No   3.7     88  Banashankari   \n",
       "4          Grand Village           No         No   3.8    166  Basavanagudi   \n",
       "\n",
       "             rest_type                        cuisines  Cost2Plates    Type  \n",
       "0        Casual Dining  North Indian, Mughlai, Chinese          800  Buffet  \n",
       "1        Casual Dining     Chinese, North Indian, Thai          800  Buffet  \n",
       "2  Cafe, Casual Dining          Cafe, Mexican, Italian          800  Buffet  \n",
       "3          Quick Bites      South Indian, North Indian          300  Buffet  \n",
       "4        Casual Dining        North Indian, Rajasthani          600  Buffet  "
      ]
     },
     "execution_count": 20,
     "metadata": {},
     "output_type": "execute_result"
    }
   ],
   "source": [
    "data.head()"
   ]
  },
  {
   "cell_type": "markdown",
   "id": "057793d9",
   "metadata": {
    "papermill": {
     "duration": 0.016024,
     "end_time": "2022-07-21T09:39:35.801110",
     "exception": false,
     "start_time": "2022-07-21T09:39:35.785086",
     "status": "completed"
    },
    "tags": []
   },
   "source": [
    "# Analysing rest_type Column"
   ]
  },
  {
   "cell_type": "code",
   "execution_count": 24,
   "id": "d81c0846",
   "metadata": {},
   "outputs": [
    {
     "data": {
      "text/html": [
       "<div>\n",
       "<style scoped>\n",
       "    .dataframe tbody tr th:only-of-type {\n",
       "        vertical-align: middle;\n",
       "    }\n",
       "\n",
       "    .dataframe tbody tr th {\n",
       "        vertical-align: top;\n",
       "    }\n",
       "\n",
       "    .dataframe thead th {\n",
       "        text-align: right;\n",
       "    }\n",
       "</style>\n",
       "<table border=\"1\" class=\"dataframe\">\n",
       "  <thead>\n",
       "    <tr style=\"text-align: right;\">\n",
       "      <th></th>\n",
       "      <th>name</th>\n",
       "      <th>online_order</th>\n",
       "      <th>book_table</th>\n",
       "      <th>rate</th>\n",
       "      <th>votes</th>\n",
       "      <th>location</th>\n",
       "      <th>rest_type</th>\n",
       "      <th>cuisines</th>\n",
       "      <th>Cost2Plates</th>\n",
       "      <th>Type</th>\n",
       "    </tr>\n",
       "  </thead>\n",
       "  <tbody>\n",
       "    <tr>\n",
       "      <th>1619</th>\n",
       "      <td>Fresh Code</td>\n",
       "      <td>No</td>\n",
       "      <td>No</td>\n",
       "      <td>3.700142</td>\n",
       "      <td>0</td>\n",
       "      <td>Bannerghatta Road</td>\n",
       "      <td>Takeaway, Delivery</td>\n",
       "      <td>Chinese, North Indian</td>\n",
       "      <td>300</td>\n",
       "      <td>Delivery</td>\n",
       "    </tr>\n",
       "  </tbody>\n",
       "</table>\n",
       "</div>"
      ],
      "text/plain": [
       "            name online_order book_table      rate  votes           location  \\\n",
       "1619  Fresh Code           No         No  3.700142      0  Bannerghatta Road   \n",
       "\n",
       "               rest_type               cuisines  Cost2Plates      Type  \n",
       "1619  Takeaway, Delivery  Chinese, North Indian          300  Delivery  "
      ]
     },
     "execution_count": 24,
     "metadata": {},
     "output_type": "execute_result"
    }
   ],
   "source": [
    "data.sample()"
   ]
  },
  {
   "cell_type": "code",
   "execution_count": 27,
   "id": "3f4c6ba9",
   "metadata": {
    "execution": {
     "iopub.execute_input": "2022-07-21T09:39:35.835379Z",
     "iopub.status.busy": "2022-07-21T09:39:35.834975Z",
     "iopub.status.idle": "2022-07-21T09:39:35.847058Z",
     "shell.execute_reply": "2022-07-21T09:39:35.845997Z"
    },
    "papermill": {
     "duration": 0.031665,
     "end_time": "2022-07-21T09:39:35.849181",
     "exception": false,
     "start_time": "2022-07-21T09:39:35.817516",
     "status": "completed"
    },
    "tags": []
   },
   "outputs": [
    {
     "data": {
      "text/plain": [
       "Quick Bites                   19010\n",
       "Casual Dining                 10253\n",
       "Cafe                           3682\n",
       "Delivery                       2574\n",
       "Dessert Parlor                 2242\n",
       "                              ...  \n",
       "Dessert Parlor, Kiosk             2\n",
       "Pop Up                            2\n",
       "Food Court, Beverage Shop         2\n",
       "Quick Bites, Kiosk                1\n",
       "Sweet Shop, Dessert Parlor        1\n",
       "Name: rest_type, Length: 93, dtype: int64"
      ]
     },
     "execution_count": 27,
     "metadata": {},
     "output_type": "execute_result"
    }
   ],
   "source": [
    "# This function return how many times a values is coming in dataframe\n",
    "# For example quick Bites types of resturents are coming 19010 times\n",
    "data.rest_type.value_counts()"
   ]
  },
  {
   "cell_type": "markdown",
   "id": "520fa003",
   "metadata": {
    "papermill": {
     "duration": 0.016021,
     "end_time": "2022-07-21T09:39:35.881990",
     "exception": false,
     "start_time": "2022-07-21T09:39:35.865969",
     "status": "completed"
    },
    "tags": []
   },
   "source": [
    "# Creating new category\n",
    "##### The resturent types that have low occurance, we will club them together to a category called \"others\n",
    "\n",
    "##### For example Dessert parlor is coming only 2 times so we with define it as other type of resturent"
   ]
  },
  {
   "cell_type": "code",
   "execution_count": 31,
   "id": "81e6c169",
   "metadata": {
    "execution": {
     "iopub.execute_input": "2022-07-21T09:39:35.916455Z",
     "iopub.status.busy": "2022-07-21T09:39:35.916029Z",
     "iopub.status.idle": "2022-07-21T09:39:35.928573Z",
     "shell.execute_reply": "2022-07-21T09:39:35.927829Z"
    },
    "papermill": {
     "duration": 0.032184,
     "end_time": "2022-07-21T09:39:35.930468",
     "exception": false,
     "start_time": "2022-07-21T09:39:35.898284",
     "status": "completed"
    },
    "tags": []
   },
   "outputs": [
    {
     "data": {
      "text/plain": [
       "Sweet Shop                    468\n",
       "Bar, Casual Dining            411\n",
       "Lounge                        395\n",
       "Pub                           355\n",
       "Fine Dining                   345\n",
       "                             ... \n",
       "Dessert Parlor, Kiosk           2\n",
       "Pop Up                          2\n",
       "Food Court, Beverage Shop       2\n",
       "Quick Bites, Kiosk              1\n",
       "Sweet Shop, Dessert Parlor      1\n",
       "Name: rest_type, Length: 82, dtype: int64"
      ]
     },
     "execution_count": 31,
     "metadata": {},
     "output_type": "execute_result"
    }
   ],
   "source": [
    "rest_types= data.rest_type.value_counts()\n",
    "# Storing all the resturent types that have accured less than 500 times in the dataframes\n",
    "rest_type_lessthan_500= rest_types[rest_types<500]\n",
    "rest_type_lessthan_500"
   ]
  },
  {
   "cell_type": "code",
   "execution_count": null,
   "id": "de14a873",
   "metadata": {},
   "outputs": [],
   "source": []
  },
  {
   "cell_type": "markdown",
   "id": "f0e2c3b7",
   "metadata": {
    "papermill": {
     "duration": 0.016402,
     "end_time": "2022-07-21T09:39:35.963872",
     "exception": false,
     "start_time": "2022-07-21T09:39:35.947470",
     "status": "completed"
    },
    "tags": []
   },
   "source": [
    "# as lots of types have few resaturants we will add them in Other"
   ]
  },
  {
   "cell_type": "code",
   "execution_count": 32,
   "id": "88c563e6",
   "metadata": {
    "execution": {
     "iopub.execute_input": "2022-07-21T09:39:35.999495Z",
     "iopub.status.busy": "2022-07-21T09:39:35.999114Z",
     "iopub.status.idle": "2022-07-21T09:39:36.058862Z",
     "shell.execute_reply": "2022-07-21T09:39:36.057737Z"
    },
    "papermill": {
     "duration": 0.08064,
     "end_time": "2022-07-21T09:39:36.061367",
     "exception": false,
     "start_time": "2022-07-21T09:39:35.980727",
     "status": "completed"
    },
    "tags": []
   },
   "outputs": [
    {
     "data": {
      "text/plain": [
       "Quick Bites           19010\n",
       "Casual Dining         10253\n",
       "others                 6838\n",
       "Cafe                   3682\n",
       "Delivery               2574\n",
       "Dessert Parlor         2242\n",
       "Takeaway, Delivery     2008\n",
       "Bakery                 1140\n",
       "Casual Dining, Bar     1130\n",
       "Beverage Shop           863\n",
       "Bar                     686\n",
       "Food Court              616\n",
       "Name: rest_type, dtype: int64"
      ]
     },
     "execution_count": 32,
     "metadata": {},
     "output_type": "execute_result"
    }
   ],
   "source": [
    "def handle_rest_type(value):\n",
    "    # if value is in the list then change it to other\n",
    "    if(value in rest_type_lessthan_500):\n",
    "        return 'others'\n",
    "    else:\n",
    "        return value\n",
    "    \n",
    "data.rest_type=data.rest_type.apply(handle_rest_type)\n",
    "data.rest_type.value_counts()"
   ]
  },
  {
   "cell_type": "code",
   "execution_count": 33,
   "id": "74999060",
   "metadata": {
    "execution": {
     "iopub.execute_input": "2022-07-21T09:39:36.096495Z",
     "iopub.status.busy": "2022-07-21T09:39:36.096091Z",
     "iopub.status.idle": "2022-07-21T09:39:36.111405Z",
     "shell.execute_reply": "2022-07-21T09:39:36.110403Z"
    },
    "papermill": {
     "duration": 0.035393,
     "end_time": "2022-07-21T09:39:36.113409",
     "exception": false,
     "start_time": "2022-07-21T09:39:36.078016",
     "status": "completed"
    },
    "tags": []
   },
   "outputs": [
    {
     "data": {
      "text/html": [
       "<div>\n",
       "<style scoped>\n",
       "    .dataframe tbody tr th:only-of-type {\n",
       "        vertical-align: middle;\n",
       "    }\n",
       "\n",
       "    .dataframe tbody tr th {\n",
       "        vertical-align: top;\n",
       "    }\n",
       "\n",
       "    .dataframe thead th {\n",
       "        text-align: right;\n",
       "    }\n",
       "</style>\n",
       "<table border=\"1\" class=\"dataframe\">\n",
       "  <thead>\n",
       "    <tr style=\"text-align: right;\">\n",
       "      <th></th>\n",
       "      <th>name</th>\n",
       "      <th>online_order</th>\n",
       "      <th>book_table</th>\n",
       "      <th>rate</th>\n",
       "      <th>votes</th>\n",
       "      <th>location</th>\n",
       "      <th>rest_type</th>\n",
       "      <th>cuisines</th>\n",
       "      <th>Cost2Plates</th>\n",
       "      <th>Type</th>\n",
       "    </tr>\n",
       "  </thead>\n",
       "  <tbody>\n",
       "    <tr>\n",
       "      <th>0</th>\n",
       "      <td>Jalsa</td>\n",
       "      <td>Yes</td>\n",
       "      <td>Yes</td>\n",
       "      <td>4.1</td>\n",
       "      <td>775</td>\n",
       "      <td>Banashankari</td>\n",
       "      <td>Casual Dining</td>\n",
       "      <td>North Indian, Mughlai, Chinese</td>\n",
       "      <td>800</td>\n",
       "      <td>Buffet</td>\n",
       "    </tr>\n",
       "    <tr>\n",
       "      <th>1</th>\n",
       "      <td>Spice Elephant</td>\n",
       "      <td>Yes</td>\n",
       "      <td>No</td>\n",
       "      <td>4.1</td>\n",
       "      <td>787</td>\n",
       "      <td>Banashankari</td>\n",
       "      <td>Casual Dining</td>\n",
       "      <td>Chinese, North Indian, Thai</td>\n",
       "      <td>800</td>\n",
       "      <td>Buffet</td>\n",
       "    </tr>\n",
       "    <tr>\n",
       "      <th>2</th>\n",
       "      <td>San Churro Cafe</td>\n",
       "      <td>Yes</td>\n",
       "      <td>No</td>\n",
       "      <td>3.8</td>\n",
       "      <td>918</td>\n",
       "      <td>Banashankari</td>\n",
       "      <td>others</td>\n",
       "      <td>Cafe, Mexican, Italian</td>\n",
       "      <td>800</td>\n",
       "      <td>Buffet</td>\n",
       "    </tr>\n",
       "    <tr>\n",
       "      <th>3</th>\n",
       "      <td>Addhuri Udupi Bhojana</td>\n",
       "      <td>No</td>\n",
       "      <td>No</td>\n",
       "      <td>3.7</td>\n",
       "      <td>88</td>\n",
       "      <td>Banashankari</td>\n",
       "      <td>Quick Bites</td>\n",
       "      <td>South Indian, North Indian</td>\n",
       "      <td>300</td>\n",
       "      <td>Buffet</td>\n",
       "    </tr>\n",
       "    <tr>\n",
       "      <th>4</th>\n",
       "      <td>Grand Village</td>\n",
       "      <td>No</td>\n",
       "      <td>No</td>\n",
       "      <td>3.8</td>\n",
       "      <td>166</td>\n",
       "      <td>Basavanagudi</td>\n",
       "      <td>Casual Dining</td>\n",
       "      <td>North Indian, Rajasthani</td>\n",
       "      <td>600</td>\n",
       "      <td>Buffet</td>\n",
       "    </tr>\n",
       "  </tbody>\n",
       "</table>\n",
       "</div>"
      ],
      "text/plain": [
       "                    name online_order book_table  rate  votes      location  \\\n",
       "0                  Jalsa          Yes        Yes   4.1    775  Banashankari   \n",
       "1         Spice Elephant          Yes         No   4.1    787  Banashankari   \n",
       "2        San Churro Cafe          Yes         No   3.8    918  Banashankari   \n",
       "3  Addhuri Udupi Bhojana           No         No   3.7     88  Banashankari   \n",
       "4          Grand Village           No         No   3.8    166  Basavanagudi   \n",
       "\n",
       "       rest_type                        cuisines  Cost2Plates    Type  \n",
       "0  Casual Dining  North Indian, Mughlai, Chinese          800  Buffet  \n",
       "1  Casual Dining     Chinese, North Indian, Thai          800  Buffet  \n",
       "2         others          Cafe, Mexican, Italian          800  Buffet  \n",
       "3    Quick Bites      South Indian, North Indian          300  Buffet  \n",
       "4  Casual Dining        North Indian, Rajasthani          600  Buffet  "
      ]
     },
     "execution_count": 33,
     "metadata": {},
     "output_type": "execute_result"
    }
   ],
   "source": [
    "data.head()"
   ]
  },
  {
   "cell_type": "code",
   "execution_count": null,
   "id": "efdb2b96",
   "metadata": {},
   "outputs": [],
   "source": []
  },
  {
   "cell_type": "markdown",
   "id": "ea67722a",
   "metadata": {
    "papermill": {
     "duration": 0.01663,
     "end_time": "2022-07-21T09:39:36.146733",
     "exception": false,
     "start_time": "2022-07-21T09:39:36.130103",
     "status": "completed"
    },
    "tags": []
   },
   "source": [
    "# Analyse the Location Column"
   ]
  },
  {
   "cell_type": "code",
   "execution_count": 71,
   "id": "a79e37bb",
   "metadata": {
    "execution": {
     "iopub.execute_input": "2022-07-21T09:39:36.182191Z",
     "iopub.status.busy": "2022-07-21T09:39:36.181810Z",
     "iopub.status.idle": "2022-07-21T09:39:36.194114Z",
     "shell.execute_reply": "2022-07-21T09:39:36.193002Z"
    },
    "papermill": {
     "duration": 0.032355,
     "end_time": "2022-07-21T09:39:36.196061",
     "exception": false,
     "start_time": "2022-07-21T09:39:36.163706",
     "status": "completed"
    },
    "tags": []
   },
   "outputs": [
    {
     "data": {
      "text/plain": [
       "BTM                      5056\n",
       "HSR                      2494\n",
       "Koramangala 5th Block    2479\n",
       "JP Nagar                 2218\n",
       "Whitefield               2105\n",
       "                         ... \n",
       "West Bangalore              6\n",
       "Yelahanka                   5\n",
       "Jakkur                      3\n",
       "Rajarajeshwari Nagar        2\n",
       "Peenya                      1\n",
       "Name: location, Length: 93, dtype: int64"
      ]
     },
     "execution_count": 71,
     "metadata": {},
     "output_type": "execute_result"
    }
   ],
   "source": [
    "data.location.value_counts()"
   ]
  },
  {
   "cell_type": "markdown",
   "id": "6e319af0",
   "metadata": {
    "papermill": {
     "duration": 0.017248,
     "end_time": "2022-07-21T09:39:36.230336",
     "exception": false,
     "start_time": "2022-07-21T09:39:36.213088",
     "status": "completed"
    },
    "tags": []
   },
   "source": [
    "# Doing same thing what we did with Resturent types"
   ]
  },
  {
   "cell_type": "code",
   "execution_count": 34,
   "id": "56b78a1d",
   "metadata": {
    "execution": {
     "iopub.execute_input": "2022-07-21T09:39:36.265555Z",
     "iopub.status.busy": "2022-07-21T09:39:36.265166Z",
     "iopub.status.idle": "2022-07-21T09:39:36.327173Z",
     "shell.execute_reply": "2022-07-21T09:39:36.326403Z"
    },
    "papermill": {
     "duration": 0.081994,
     "end_time": "2022-07-21T09:39:36.329040",
     "exception": false,
     "start_time": "2022-07-21T09:39:36.247046",
     "status": "completed"
    },
    "tags": []
   },
   "outputs": [
    {
     "data": {
      "text/plain": [
       "others                   8007\n",
       "BTM                      5056\n",
       "HSR                      2494\n",
       "Koramangala 5th Block    2479\n",
       "JP Nagar                 2218\n",
       "Whitefield               2105\n",
       "Indiranagar              2026\n",
       "Jayanagar                1916\n",
       "Marathahalli             1805\n",
       "Bannerghatta Road        1609\n",
       "Bellandur                1268\n",
       "Electronic City          1246\n",
       "Koramangala 1st Block    1236\n",
       "Brigade Road             1210\n",
       "Koramangala 7th Block    1174\n",
       "Koramangala 6th Block    1127\n",
       "Sarjapur Road            1047\n",
       "Koramangala 4th Block    1017\n",
       "Ulsoor                   1011\n",
       "Banashankari              902\n",
       "MG Road                   893\n",
       "Kalyan Nagar              841\n",
       "Richmond Road             803\n",
       "Malleshwaram              721\n",
       "Frazer Town               714\n",
       "Basavanagudi              684\n",
       "Residency Road            671\n",
       "Brookefield               656\n",
       "New BEL Road              644\n",
       "Banaswadi                 640\n",
       "Kammanahalli              639\n",
       "Rajajinagar               591\n",
       "Church Street             566\n",
       "Lavelle Road              518\n",
       "Shanti Nagar              508\n",
       "Name: location, dtype: int64"
      ]
     },
     "execution_count": 34,
     "metadata": {},
     "output_type": "execute_result"
    }
   ],
   "source": [
    "locations = data.location.value_counts()\n",
    "location_less_than_500= locations[locations<500]\n",
    "location_less_than_500\n",
    "\n",
    "# make function to handle the location less thn 500\n",
    "def handle_location(value):\n",
    "    if value in location_less_than_500 :\n",
    "        return 'others'\n",
    "    else:\n",
    "        return value\n",
    "    \n",
    "data.location=data.location.apply(handle_location)\n",
    "data.location.value_counts()"
   ]
  },
  {
   "cell_type": "code",
   "execution_count": 35,
   "id": "10443237",
   "metadata": {
    "execution": {
     "iopub.execute_input": "2022-07-21T09:39:36.364485Z",
     "iopub.status.busy": "2022-07-21T09:39:36.364092Z",
     "iopub.status.idle": "2022-07-21T09:39:36.379704Z",
     "shell.execute_reply": "2022-07-21T09:39:36.378673Z"
    },
    "papermill": {
     "duration": 0.035852,
     "end_time": "2022-07-21T09:39:36.381594",
     "exception": false,
     "start_time": "2022-07-21T09:39:36.345742",
     "status": "completed"
    },
    "tags": []
   },
   "outputs": [
    {
     "data": {
      "text/html": [
       "<div>\n",
       "<style scoped>\n",
       "    .dataframe tbody tr th:only-of-type {\n",
       "        vertical-align: middle;\n",
       "    }\n",
       "\n",
       "    .dataframe tbody tr th {\n",
       "        vertical-align: top;\n",
       "    }\n",
       "\n",
       "    .dataframe thead th {\n",
       "        text-align: right;\n",
       "    }\n",
       "</style>\n",
       "<table border=\"1\" class=\"dataframe\">\n",
       "  <thead>\n",
       "    <tr style=\"text-align: right;\">\n",
       "      <th></th>\n",
       "      <th>name</th>\n",
       "      <th>online_order</th>\n",
       "      <th>book_table</th>\n",
       "      <th>rate</th>\n",
       "      <th>votes</th>\n",
       "      <th>location</th>\n",
       "      <th>rest_type</th>\n",
       "      <th>cuisines</th>\n",
       "      <th>Cost2Plates</th>\n",
       "      <th>Type</th>\n",
       "    </tr>\n",
       "  </thead>\n",
       "  <tbody>\n",
       "    <tr>\n",
       "      <th>0</th>\n",
       "      <td>Jalsa</td>\n",
       "      <td>Yes</td>\n",
       "      <td>Yes</td>\n",
       "      <td>4.1</td>\n",
       "      <td>775</td>\n",
       "      <td>Banashankari</td>\n",
       "      <td>Casual Dining</td>\n",
       "      <td>North Indian, Mughlai, Chinese</td>\n",
       "      <td>800</td>\n",
       "      <td>Buffet</td>\n",
       "    </tr>\n",
       "    <tr>\n",
       "      <th>1</th>\n",
       "      <td>Spice Elephant</td>\n",
       "      <td>Yes</td>\n",
       "      <td>No</td>\n",
       "      <td>4.1</td>\n",
       "      <td>787</td>\n",
       "      <td>Banashankari</td>\n",
       "      <td>Casual Dining</td>\n",
       "      <td>Chinese, North Indian, Thai</td>\n",
       "      <td>800</td>\n",
       "      <td>Buffet</td>\n",
       "    </tr>\n",
       "    <tr>\n",
       "      <th>2</th>\n",
       "      <td>San Churro Cafe</td>\n",
       "      <td>Yes</td>\n",
       "      <td>No</td>\n",
       "      <td>3.8</td>\n",
       "      <td>918</td>\n",
       "      <td>Banashankari</td>\n",
       "      <td>others</td>\n",
       "      <td>Cafe, Mexican, Italian</td>\n",
       "      <td>800</td>\n",
       "      <td>Buffet</td>\n",
       "    </tr>\n",
       "    <tr>\n",
       "      <th>3</th>\n",
       "      <td>Addhuri Udupi Bhojana</td>\n",
       "      <td>No</td>\n",
       "      <td>No</td>\n",
       "      <td>3.7</td>\n",
       "      <td>88</td>\n",
       "      <td>Banashankari</td>\n",
       "      <td>Quick Bites</td>\n",
       "      <td>South Indian, North Indian</td>\n",
       "      <td>300</td>\n",
       "      <td>Buffet</td>\n",
       "    </tr>\n",
       "    <tr>\n",
       "      <th>4</th>\n",
       "      <td>Grand Village</td>\n",
       "      <td>No</td>\n",
       "      <td>No</td>\n",
       "      <td>3.8</td>\n",
       "      <td>166</td>\n",
       "      <td>Basavanagudi</td>\n",
       "      <td>Casual Dining</td>\n",
       "      <td>North Indian, Rajasthani</td>\n",
       "      <td>600</td>\n",
       "      <td>Buffet</td>\n",
       "    </tr>\n",
       "  </tbody>\n",
       "</table>\n",
       "</div>"
      ],
      "text/plain": [
       "                    name online_order book_table  rate  votes      location  \\\n",
       "0                  Jalsa          Yes        Yes   4.1    775  Banashankari   \n",
       "1         Spice Elephant          Yes         No   4.1    787  Banashankari   \n",
       "2        San Churro Cafe          Yes         No   3.8    918  Banashankari   \n",
       "3  Addhuri Udupi Bhojana           No         No   3.7     88  Banashankari   \n",
       "4          Grand Village           No         No   3.8    166  Basavanagudi   \n",
       "\n",
       "       rest_type                        cuisines  Cost2Plates    Type  \n",
       "0  Casual Dining  North Indian, Mughlai, Chinese          800  Buffet  \n",
       "1  Casual Dining     Chinese, North Indian, Thai          800  Buffet  \n",
       "2         others          Cafe, Mexican, Italian          800  Buffet  \n",
       "3    Quick Bites      South Indian, North Indian          300  Buffet  \n",
       "4  Casual Dining        North Indian, Rajasthani          600  Buffet  "
      ]
     },
     "execution_count": 35,
     "metadata": {},
     "output_type": "execute_result"
    }
   ],
   "source": [
    "data.head()"
   ]
  },
  {
   "cell_type": "markdown",
   "id": "c2e79131",
   "metadata": {
    "papermill": {
     "duration": 0.016702,
     "end_time": "2022-07-21T09:39:36.415661",
     "exception": false,
     "start_time": "2022-07-21T09:39:36.398959",
     "status": "completed"
    },
    "tags": []
   },
   "source": [
    "# Analysing cusines coulmn"
   ]
  },
  {
   "cell_type": "code",
   "execution_count": 37,
   "id": "9c36c6dc",
   "metadata": {
    "execution": {
     "iopub.execute_input": "2022-07-21T09:39:36.451164Z",
     "iopub.status.busy": "2022-07-21T09:39:36.450787Z",
     "iopub.status.idle": "2022-07-21T09:39:36.515753Z",
     "shell.execute_reply": "2022-07-21T09:39:36.514713Z"
    },
    "papermill": {
     "duration": 0.085173,
     "end_time": "2022-07-21T09:39:36.517917",
     "exception": false,
     "start_time": "2022-07-21T09:39:36.432744",
     "status": "completed"
    },
    "scrolled": true,
    "tags": []
   },
   "outputs": [
    {
     "data": {
      "text/plain": [
       "North Indian                                 2852\n",
       "North Indian, Chinese                        2351\n",
       "South Indian                                 1820\n",
       "Biryani                                       903\n",
       "Bakery, Desserts                              898\n",
       "                                             ... \n",
       "Continental, South Indian, North Indian         1\n",
       "Biryani, North Indian, Rolls                    1\n",
       "Cafe, Healthy Food, Beverages                   1\n",
       "Biryani, Kebab, South Indian                    1\n",
       "North Indian, Bengali, Chinese, Beverages       1\n",
       "Name: cuisines, Length: 2704, dtype: int64"
      ]
     },
     "execution_count": 37,
     "metadata": {},
     "output_type": "execute_result"
    }
   ],
   "source": [
    "cuisiness = data.cuisines.value_counts()\n",
    "cuisiness"
   ]
  },
  {
   "cell_type": "code",
   "execution_count": 40,
   "id": "700a3ba0",
   "metadata": {},
   "outputs": [
    {
     "data": {
      "text/plain": [
       "others                                 26159\n",
       "North Indian                            2852\n",
       "North Indian, Chinese                   2351\n",
       "South Indian                            1820\n",
       "Biryani                                  903\n",
       "                                       ...  \n",
       "South Indian, Chinese, North Indian      105\n",
       "South Indian, Fast Food                  104\n",
       "North Indian, Mughlai, Chinese           104\n",
       "North Indian, Chinese, Seafood           102\n",
       "Italian, Pizza                           102\n",
       "Name: cuisines, Length: 70, dtype: int64"
      ]
     },
     "execution_count": 40,
     "metadata": {},
     "output_type": "execute_result"
    }
   ],
   "source": [
    "cuisiness_less_than_100= cuisiness[cuisiness<100]\n",
    "#cuisiness_less_than_100\n",
    "\n",
    "# make function to handle the location less thn 100\n",
    "def handle_cuisiness(value):\n",
    "    if value in cuisiness_less_than_100:\n",
    "        return 'others'\n",
    "    else:\n",
    "        return value\n",
    "data.cuisines=data.cuisines.apply(handle_cuisiness)\n",
    "data.cuisines.value_counts()"
   ]
  },
  {
   "cell_type": "code",
   "execution_count": null,
   "id": "f3fc1777",
   "metadata": {},
   "outputs": [],
   "source": []
  },
  {
   "cell_type": "markdown",
   "id": "b6a38ed1",
   "metadata": {
    "papermill": {
     "duration": 0.01664,
     "end_time": "2022-07-21T09:39:36.551562",
     "exception": false,
     "start_time": "2022-07-21T09:39:36.534922",
     "status": "completed"
    },
    "tags": []
   },
   "source": [
    "# Analysing types column"
   ]
  },
  {
   "cell_type": "code",
   "execution_count": 77,
   "id": "769f8e58",
   "metadata": {
    "execution": {
     "iopub.execute_input": "2022-07-21T09:39:36.586869Z",
     "iopub.status.busy": "2022-07-21T09:39:36.586486Z",
     "iopub.status.idle": "2022-07-21T09:39:36.598137Z",
     "shell.execute_reply": "2022-07-21T09:39:36.597406Z"
    },
    "papermill": {
     "duration": 0.03165,
     "end_time": "2022-07-21T09:39:36.600111",
     "exception": false,
     "start_time": "2022-07-21T09:39:36.568461",
     "status": "completed"
    },
    "tags": []
   },
   "outputs": [
    {
     "data": {
      "text/plain": [
       "Delivery              25579\n",
       "Dine-out              17562\n",
       "Desserts               3559\n",
       "Cafes                  1703\n",
       "Drinks & nightlife     1084\n",
       "Buffet                  869\n",
       "Pubs and bars           686\n",
       "Name: Type, dtype: int64"
      ]
     },
     "execution_count": 77,
     "metadata": {},
     "output_type": "execute_result"
    }
   ],
   "source": [
    "data.Type.value_counts()"
   ]
  },
  {
   "cell_type": "markdown",
   "id": "77c3152d",
   "metadata": {
    "papermill": {
     "duration": 0.016844,
     "end_time": "2022-07-21T09:39:36.634154",
     "exception": false,
     "start_time": "2022-07-21T09:39:36.617310",
     "status": "completed"
    },
    "tags": []
   },
   "source": [
    "#### data.Type is already very clean"
   ]
  },
  {
   "cell_type": "markdown",
   "id": "a6fcb42d",
   "metadata": {
    "papermill": {
     "duration": 0.016781,
     "end_time": "2022-07-21T09:39:36.668113",
     "exception": false,
     "start_time": "2022-07-21T09:39:36.651332",
     "status": "completed"
    },
    "tags": []
   },
   "source": [
    "#  Data is cleaned now we can start Visualization ##"
   ]
  },
  {
   "cell_type": "markdown",
   "id": "1b31c1a9",
   "metadata": {
    "papermill": {
     "duration": 0.016802,
     "end_time": "2022-07-21T09:39:36.701990",
     "exception": false,
     "start_time": "2022-07-21T09:39:36.685188",
     "status": "completed"
    },
    "tags": []
   },
   "source": [
    "![](https://i.gifer.com/ZEVP.gif)"
   ]
  },
  {
   "cell_type": "markdown",
   "id": "3e0154a4",
   "metadata": {
    "papermill": {
     "duration": 0.016909,
     "end_time": "2022-07-21T09:39:36.735988",
     "exception": false,
     "start_time": "2022-07-21T09:39:36.719079",
     "status": "completed"
    },
    "tags": []
   },
   "source": [
    "# Data Visualization"
   ]
  },
  {
   "cell_type": "code",
   "execution_count": 41,
   "id": "d2e10905",
   "metadata": {},
   "outputs": [
    {
     "data": {
      "text/html": [
       "<div>\n",
       "<style scoped>\n",
       "    .dataframe tbody tr th:only-of-type {\n",
       "        vertical-align: middle;\n",
       "    }\n",
       "\n",
       "    .dataframe tbody tr th {\n",
       "        vertical-align: top;\n",
       "    }\n",
       "\n",
       "    .dataframe thead th {\n",
       "        text-align: right;\n",
       "    }\n",
       "</style>\n",
       "<table border=\"1\" class=\"dataframe\">\n",
       "  <thead>\n",
       "    <tr style=\"text-align: right;\">\n",
       "      <th></th>\n",
       "      <th>name</th>\n",
       "      <th>online_order</th>\n",
       "      <th>book_table</th>\n",
       "      <th>rate</th>\n",
       "      <th>votes</th>\n",
       "      <th>location</th>\n",
       "      <th>rest_type</th>\n",
       "      <th>cuisines</th>\n",
       "      <th>Cost2Plates</th>\n",
       "      <th>Type</th>\n",
       "    </tr>\n",
       "  </thead>\n",
       "  <tbody>\n",
       "    <tr>\n",
       "      <th>9534</th>\n",
       "      <td>Sree Food Paradise</td>\n",
       "      <td>No</td>\n",
       "      <td>No</td>\n",
       "      <td>3.700142</td>\n",
       "      <td>0</td>\n",
       "      <td>BTM</td>\n",
       "      <td>Quick Bites</td>\n",
       "      <td>North Indian, Biryani</td>\n",
       "      <td>150</td>\n",
       "      <td>Delivery</td>\n",
       "    </tr>\n",
       "  </tbody>\n",
       "</table>\n",
       "</div>"
      ],
      "text/plain": [
       "                    name online_order book_table      rate  votes location  \\\n",
       "9534  Sree Food Paradise           No         No  3.700142      0      BTM   \n",
       "\n",
       "        rest_type               cuisines  Cost2Plates      Type  \n",
       "9534  Quick Bites  North Indian, Biryani          150  Delivery  "
      ]
     },
     "execution_count": 41,
     "metadata": {},
     "output_type": "execute_result"
    }
   ],
   "source": [
    "data.sample()"
   ]
  },
  {
   "cell_type": "code",
   "execution_count": null,
   "id": "05cde60e",
   "metadata": {},
   "outputs": [],
   "source": []
  },
  {
   "cell_type": "markdown",
   "id": "9d965f26",
   "metadata": {
    "papermill": {
     "duration": 0.017205,
     "end_time": "2022-07-21T09:39:36.770211",
     "exception": false,
     "start_time": "2022-07-21T09:39:36.753006",
     "status": "completed"
    },
    "tags": []
   },
   "source": [
    "### Visualizing the location"
   ]
  },
  {
   "cell_type": "code",
   "execution_count": 99,
   "id": "8334121c",
   "metadata": {},
   "outputs": [
    {
     "data": {
      "text/plain": [
       "others                   8007\n",
       "BTM                      5056\n",
       "HSR                      2494\n",
       "Koramangala 5th Block    2479\n",
       "JP Nagar                 2218\n",
       "Whitefield               2105\n",
       "Indiranagar              2026\n",
       "Jayanagar                1916\n",
       "Marathahalli             1805\n",
       "Bannerghatta Road        1609\n",
       "Bellandur                1268\n",
       "Electronic City          1246\n",
       "Koramangala 1st Block    1236\n",
       "Brigade Road             1210\n",
       "Koramangala 7th Block    1174\n",
       "Koramangala 6th Block    1127\n",
       "Sarjapur Road            1047\n",
       "Koramangala 4th Block    1017\n",
       "Ulsoor                   1011\n",
       "Banashankari              902\n",
       "MG Road                   893\n",
       "Kalyan Nagar              841\n",
       "Richmond Road             803\n",
       "Malleshwaram              721\n",
       "Frazer Town               714\n",
       "Basavanagudi              684\n",
       "Residency Road            671\n",
       "Brookefield               656\n",
       "New BEL Road              644\n",
       "Banaswadi                 640\n",
       "Kammanahalli              639\n",
       "Rajajinagar               591\n",
       "Church Street             566\n",
       "Lavelle Road              518\n",
       "Shanti Nagar              508\n",
       "Name: location, dtype: int64"
      ]
     },
     "execution_count": 99,
     "metadata": {},
     "output_type": "execute_result"
    }
   ],
   "source": [
    "data.location.value_counts()"
   ]
  },
  {
   "cell_type": "code",
   "execution_count": 49,
   "id": "c382ae8d",
   "metadata": {
    "execution": {
     "iopub.execute_input": "2022-07-21T09:39:36.806717Z",
     "iopub.status.busy": "2022-07-21T09:39:36.805687Z",
     "iopub.status.idle": "2022-07-21T09:39:37.270230Z",
     "shell.execute_reply": "2022-07-21T09:39:37.269002Z"
    },
    "papermill": {
     "duration": 0.485319,
     "end_time": "2022-07-21T09:39:37.272615",
     "exception": false,
     "start_time": "2022-07-21T09:39:36.787296",
     "status": "completed"
    },
    "tags": []
   },
   "outputs": [
    {
     "data": {
      "image/png": "[encoded data removed]",
      "text/plain": [
       "<Figure size 1584x576 with 1 Axes>"
      ]
     },
     "metadata": {
      "needs_background": "light"
     },
     "output_type": "display_data"
    }
   ],
   "source": [
    "# Count plot is used to count the total values for a row\n",
    "# for example it is showing there are 5000+ resturent in BTM\n",
    "plt.figure(figsize=(22,8))\n",
    "ax= sns.countplot(data = data , x = 'location')\n",
    "plt.xticks(rotation=90) #rotate the lable so the dont overlap\n",
    "plt.show()"
   ]
  },
  {
   "cell_type": "markdown",
   "id": "ebe2c509",
   "metadata": {
    "papermill": {
     "duration": 0.017219,
     "end_time": "2022-07-21T09:39:37.307777",
     "exception": false,
     "start_time": "2022-07-21T09:39:37.290558",
     "status": "completed"
    },
    "tags": []
   },
   "source": [
    "### Visualizing the Online order"
   ]
  },
  {
   "cell_type": "code",
   "execution_count": 102,
   "id": "e4b95b63",
   "metadata": {},
   "outputs": [
    {
     "data": {
      "text/plain": [
       "Yes    30228\n",
       "No     20814\n",
       "Name: online_order, dtype: int64"
      ]
     },
     "execution_count": 102,
     "metadata": {},
     "output_type": "execute_result"
    }
   ],
   "source": [
    "data.online_order.value_counts()"
   ]
  },
  {
   "cell_type": "code",
   "execution_count": 81,
   "id": "ab63aeb5",
   "metadata": {
    "execution": {
     "iopub.execute_input": "2022-07-21T09:39:37.345161Z",
     "iopub.status.busy": "2022-07-21T09:39:37.344415Z",
     "iopub.status.idle": "2022-07-21T09:39:37.524610Z",
     "shell.execute_reply": "2022-07-21T09:39:37.523563Z"
    },
    "papermill": {
     "duration": 0.201323,
     "end_time": "2022-07-21T09:39:37.526698",
     "exception": false,
     "start_time": "2022-07-21T09:39:37.325375",
     "status": "completed"
    },
    "scrolled": false,
    "tags": []
   },
   "outputs": [
    {
     "name": "stderr",
     "output_type": "stream",
     "text": [
      "C:\\Users\\96654\\anaconda3\\lib\\site-packages\\seaborn\\_decorators.py:36: FutureWarning: Pass the following variable as a keyword arg: x. From version 0.12, the only valid positional argument will be `data`, and passing other arguments without an explicit keyword will result in an error or misinterpretation.\n",
      "  warnings.warn(\n"
     ]
    },
    {
     "data": {
      "text/plain": [
       "<AxesSubplot:xlabel='online_order', ylabel='count'>"
      ]
     },
     "execution_count": 81,
     "metadata": {},
     "output_type": "execute_result"
    },
    {
     "data": {
      "image/png": "[encoded data removed]",
      "text/plain": [
       "<Figure size 432x432 with 1 Axes>"
      ]
     },
     "metadata": {
      "needs_background": "light"
     },
     "output_type": "display_data"
    }
   ],
   "source": [
    "# Showing how many resturent have Online Order Facility\n",
    "plt.figure(figsize=(6,6))\n",
    "sns.countplot(data.online_order )"
   ]
  },
  {
   "cell_type": "code",
   "execution_count": 51,
   "id": "773be929",
   "metadata": {},
   "outputs": [
    {
     "data": {
      "text/plain": [
       "<AxesSubplot:xlabel='online_order', ylabel='rate'>"
      ]
     },
     "execution_count": 51,
     "metadata": {},
     "output_type": "execute_result"
    },
    {
     "data": {
      "image/png": "[encoded data removed]",
      "text/plain": [
       "<Figure size 432x432 with 1 Axes>"
      ]
     },
     "metadata": {
      "needs_background": "light"
     },
     "output_type": "display_data"
    }
   ],
   "source": [
    "plt.figure(figsize=(6,6))\n",
    "sns.barplot(x = data.online_order , y = data.rate)"
   ]
  },
  {
   "cell_type": "code",
   "execution_count": 106,
   "id": "a4467029",
   "metadata": {},
   "outputs": [
    {
     "data": {
      "text/plain": [
       "<AxesSubplot:xlabel='online_order', ylabel='votes'>"
      ]
     },
     "execution_count": 106,
     "metadata": {},
     "output_type": "execute_result"
    },
    {
     "data": {
      "image/png": "[encoded data removed]",
      "text/plain": [
       "<Figure size 432x432 with 1 Axes>"
      ]
     },
     "metadata": {
      "needs_background": "light"
     },
     "output_type": "display_data"
    }
   ],
   "source": [
    "plt.figure(figsize=(6,6))\n",
    "sns.barplot(x = data.online_order , y = data.votes)"
   ]
  },
  {
   "cell_type": "code",
   "execution_count": null,
   "id": "7115eef8",
   "metadata": {},
   "outputs": [],
   "source": []
  },
  {
   "cell_type": "code",
   "execution_count": 107,
   "id": "1011fbae",
   "metadata": {},
   "outputs": [
    {
     "data": {
      "text/html": [
       "<div>\n",
       "<style scoped>\n",
       "    .dataframe tbody tr th:only-of-type {\n",
       "        vertical-align: middle;\n",
       "    }\n",
       "\n",
       "    .dataframe tbody tr th {\n",
       "        vertical-align: top;\n",
       "    }\n",
       "\n",
       "    .dataframe thead th {\n",
       "        text-align: right;\n",
       "    }\n",
       "</style>\n",
       "<table border=\"1\" class=\"dataframe\">\n",
       "  <thead>\n",
       "    <tr style=\"text-align: right;\">\n",
       "      <th></th>\n",
       "      <th>name</th>\n",
       "      <th>online_order</th>\n",
       "      <th>book_table</th>\n",
       "      <th>rate</th>\n",
       "      <th>votes</th>\n",
       "      <th>location</th>\n",
       "      <th>rest_type</th>\n",
       "      <th>cuisines</th>\n",
       "      <th>Cost2Plates</th>\n",
       "      <th>Type</th>\n",
       "    </tr>\n",
       "  </thead>\n",
       "  <tbody>\n",
       "    <tr>\n",
       "      <th>51593</th>\n",
       "      <td>The South</td>\n",
       "      <td>No</td>\n",
       "      <td>No</td>\n",
       "      <td>3.7</td>\n",
       "      <td>21</td>\n",
       "      <td>Whitefield</td>\n",
       "      <td>Quick Bites</td>\n",
       "      <td>South Indian</td>\n",
       "      <td>200</td>\n",
       "      <td>Dine-out</td>\n",
       "    </tr>\n",
       "  </tbody>\n",
       "</table>\n",
       "</div>"
      ],
      "text/plain": [
       "            name online_order book_table  rate  votes    location  \\\n",
       "51593  The South           No         No   3.7     21  Whitefield   \n",
       "\n",
       "         rest_type      cuisines  Cost2Plates      Type  \n",
       "51593  Quick Bites  South Indian          200  Dine-out  "
      ]
     },
     "execution_count": 107,
     "metadata": {},
     "output_type": "execute_result"
    }
   ],
   "source": [
    "data.sample()"
   ]
  },
  {
   "cell_type": "code",
   "execution_count": 109,
   "id": "fed67783",
   "metadata": {},
   "outputs": [
    {
     "data": {
      "text/plain": [
       "<AxesSubplot:xlabel='online_order', ylabel='count'>"
      ]
     },
     "execution_count": 109,
     "metadata": {},
     "output_type": "execute_result"
    },
    {
     "data": {
      "image/png": "[encoded data removed]",
      "text/plain": [
       "<Figure size 720x432 with 1 Axes>"
      ]
     },
     "metadata": {
      "needs_background": "light"
     },
     "output_type": "display_data"
    }
   ],
   "source": [
    "plt.figure(figsize=(10,6))\n",
    "sns.countplot(x = data.online_order , hue = data.Type )"
   ]
  },
  {
   "cell_type": "code",
   "execution_count": 110,
   "id": "d69d341b",
   "metadata": {},
   "outputs": [
    {
     "data": {
      "text/plain": [
       "<AxesSubplot:xlabel='online_order', ylabel='count'>"
      ]
     },
     "execution_count": 110,
     "metadata": {},
     "output_type": "execute_result"
    },
    {
     "data": {
      "image/png": "[encoded data removed]",
      "text/plain": [
       "<Figure size 720x432 with 1 Axes>"
      ]
     },
     "metadata": {
      "needs_background": "light"
     },
     "output_type": "display_data"
    }
   ],
   "source": [
    "plt.figure(figsize=(10,6))\n",
    "sns.countplot(x = data.online_order , hue = data.book_table )"
   ]
  },
  {
   "cell_type": "code",
   "execution_count": 53,
   "id": "72f3e2d9",
   "metadata": {},
   "outputs": [
    {
     "data": {
      "image/png": "[encoded data removed]",
      "text/plain": [
       "<Figure size 360x360 with 1 Axes>"
      ]
     },
     "metadata": {
      "needs_background": "light"
     },
     "output_type": "display_data"
    }
   ],
   "source": [
    "sns.catplot( data = data ,  x = \"online_order\")\n",
    "plt.show()"
   ]
  },
  {
   "cell_type": "markdown",
   "id": "a12a9f6c",
   "metadata": {
    "papermill": {
     "duration": 0.018361,
     "end_time": "2022-07-21T09:39:37.563446",
     "exception": false,
     "start_time": "2022-07-21T09:39:37.545085",
     "status": "completed"
    },
    "tags": []
   },
   "source": [
    "### Visualizing the Book Table"
   ]
  },
  {
   "cell_type": "code",
   "execution_count": 82,
   "id": "bc37b48d",
   "metadata": {
    "execution": {
     "iopub.execute_input": "2022-07-21T09:39:37.602710Z",
     "iopub.status.busy": "2022-07-21T09:39:37.601636Z",
     "iopub.status.idle": "2022-07-21T09:39:37.769387Z",
     "shell.execute_reply": "2022-07-21T09:39:37.768061Z"
    },
    "papermill": {
     "duration": 0.190603,
     "end_time": "2022-07-21T09:39:37.772376",
     "exception": false,
     "start_time": "2022-07-21T09:39:37.581773",
     "status": "completed"
    },
    "tags": []
   },
   "outputs": [
    {
     "name": "stderr",
     "output_type": "stream",
     "text": [
      "C:\\Users\\96654\\anaconda3\\lib\\site-packages\\seaborn\\_decorators.py:36: FutureWarning: Pass the following variable as a keyword arg: x. From version 0.12, the only valid positional argument will be `data`, and passing other arguments without an explicit keyword will result in an error or misinterpretation.\n",
      "  warnings.warn(\n"
     ]
    },
    {
     "data": {
      "text/plain": [
       "<AxesSubplot:xlabel='book_table', ylabel='count'>"
      ]
     },
     "execution_count": 82,
     "metadata": {},
     "output_type": "execute_result"
    },
    {
     "data": {
      "image/png": "[encoded data removed]",
      "text/plain": [
       "<Figure size 432x432 with 1 Axes>"
      ]
     },
     "metadata": {
      "needs_background": "light"
     },
     "output_type": "display_data"
    }
   ],
   "source": [
    "# Showing how many resturent have Book Table Facility\n",
    "plt.figure(figsize=(6,6))\n",
    "sns.countplot(data.book_table)"
   ]
  },
  {
   "cell_type": "code",
   "execution_count": 124,
   "id": "a58ea1cd",
   "metadata": {},
   "outputs": [
    {
     "data": {
      "text/plain": [
       "<AxesSubplot:xlabel='book_table', ylabel='count'>"
      ]
     },
     "execution_count": 124,
     "metadata": {},
     "output_type": "execute_result"
    },
    {
     "data": {
      "image/png": "[encoded data removed]",
      "text/plain": [
       "<Figure size 432x432 with 1 Axes>"
      ]
     },
     "metadata": {
      "needs_background": "light"
     },
     "output_type": "display_data"
    }
   ],
   "source": [
    "plt.figure(figsize=(6,6))\n",
    "sns.countplot(x = data.book_table , hue = data.online_order)"
   ]
  },
  {
   "cell_type": "code",
   "execution_count": 125,
   "id": "c30da6a5",
   "metadata": {},
   "outputs": [
    {
     "data": {
      "text/plain": [
       "<AxesSubplot:xlabel='book_table', ylabel='votes'>"
      ]
     },
     "execution_count": 125,
     "metadata": {},
     "output_type": "execute_result"
    },
    {
     "data": {
      "image/png": "[encoded data removed]",
      "text/plain": [
       "<Figure size 432x432 with 1 Axes>"
      ]
     },
     "metadata": {
      "needs_background": "light"
     },
     "output_type": "display_data"
    }
   ],
   "source": [
    "plt.figure(figsize=(6,6))\n",
    "sns.barplot(x = data.book_table , y = data.votes)"
   ]
  },
  {
   "cell_type": "code",
   "execution_count": 126,
   "id": "519a284a",
   "metadata": {},
   "outputs": [
    {
     "data": {
      "text/plain": [
       "<AxesSubplot:xlabel='book_table', ylabel='rate'>"
      ]
     },
     "execution_count": 126,
     "metadata": {},
     "output_type": "execute_result"
    },
    {
     "data": {
      "image/png": "[encoded data removed]",
      "text/plain": [
       "<Figure size 432x432 with 1 Axes>"
      ]
     },
     "metadata": {
      "needs_background": "light"
     },
     "output_type": "display_data"
    }
   ],
   "source": [
    "plt.figure(figsize=(6,6))\n",
    "sns.barplot(x = data.book_table , y = data.rate)"
   ]
  },
  {
   "cell_type": "code",
   "execution_count": 129,
   "id": "d9c54c01",
   "metadata": {},
   "outputs": [
    {
     "data": {
      "text/plain": [
       "<AxesSubplot:xlabel='book_table', ylabel='Cost2Plates'>"
      ]
     },
     "execution_count": 129,
     "metadata": {},
     "output_type": "execute_result"
    },
    {
     "data": {
      "image/png": "[encoded data removed]",
      "text/plain": [
       "<Figure size 432x432 with 1 Axes>"
      ]
     },
     "metadata": {
      "needs_background": "light"
     },
     "output_type": "display_data"
    }
   ],
   "source": [
    "plt.figure(figsize=(6,6))\n",
    "sns.barplot(x = data.book_table , y = data.Cost2Plates)"
   ]
  },
  {
   "cell_type": "code",
   "execution_count": 128,
   "id": "8ea84892",
   "metadata": {},
   "outputs": [
    {
     "data": {
      "text/html": [
       "<div>\n",
       "<style scoped>\n",
       "    .dataframe tbody tr th:only-of-type {\n",
       "        vertical-align: middle;\n",
       "    }\n",
       "\n",
       "    .dataframe tbody tr th {\n",
       "        vertical-align: top;\n",
       "    }\n",
       "\n",
       "    .dataframe thead th {\n",
       "        text-align: right;\n",
       "    }\n",
       "</style>\n",
       "<table border=\"1\" class=\"dataframe\">\n",
       "  <thead>\n",
       "    <tr style=\"text-align: right;\">\n",
       "      <th></th>\n",
       "      <th>name</th>\n",
       "      <th>online_order</th>\n",
       "      <th>book_table</th>\n",
       "      <th>rate</th>\n",
       "      <th>votes</th>\n",
       "      <th>location</th>\n",
       "      <th>rest_type</th>\n",
       "      <th>cuisines</th>\n",
       "      <th>Cost2Plates</th>\n",
       "      <th>Type</th>\n",
       "    </tr>\n",
       "  </thead>\n",
       "  <tbody>\n",
       "    <tr>\n",
       "      <th>47898</th>\n",
       "      <td>Ambur Hot Dum Biryani</td>\n",
       "      <td>No</td>\n",
       "      <td>No</td>\n",
       "      <td>3.1</td>\n",
       "      <td>6</td>\n",
       "      <td>Shanti Nagar</td>\n",
       "      <td>Quick Bites</td>\n",
       "      <td>Biryani, Kebab</td>\n",
       "      <td>250</td>\n",
       "      <td>Delivery</td>\n",
       "    </tr>\n",
       "  </tbody>\n",
       "</table>\n",
       "</div>"
      ],
      "text/plain": [
       "                        name online_order book_table  rate  votes  \\\n",
       "47898  Ambur Hot Dum Biryani           No         No   3.1      6   \n",
       "\n",
       "           location    rest_type        cuisines  Cost2Plates      Type  \n",
       "47898  Shanti Nagar  Quick Bites  Biryani, Kebab          250  Delivery  "
      ]
     },
     "execution_count": 128,
     "metadata": {},
     "output_type": "execute_result"
    }
   ],
   "source": [
    "data.sample()"
   ]
  },
  {
   "cell_type": "markdown",
   "id": "55e71c65",
   "metadata": {
    "papermill": {
     "duration": 0.018302,
     "end_time": "2022-07-21T09:39:37.812545",
     "exception": false,
     "start_time": "2022-07-21T09:39:37.794243",
     "status": "completed"
    },
    "tags": []
   },
   "source": [
    "## Visualization online order vs rate\n",
    "\n",
    "#### To compare to columns we ofter use Boxplot, Barplot,ScatterPLot, Violinplot\n"
   ]
  },
  {
   "cell_type": "code",
   "execution_count": 83,
   "id": "fc1d0e49",
   "metadata": {
    "execution": {
     "iopub.execute_input": "2022-07-21T09:39:37.852288Z",
     "iopub.status.busy": "2022-07-21T09:39:37.851122Z",
     "iopub.status.idle": "2022-07-21T09:39:38.262044Z",
     "shell.execute_reply": "2022-07-21T09:39:38.261238Z"
    },
    "papermill": {
     "duration": 0.432794,
     "end_time": "2022-07-21T09:39:38.264057",
     "exception": false,
     "start_time": "2022-07-21T09:39:37.831263",
     "status": "completed"
    },
    "tags": []
   },
   "outputs": [
    {
     "data": {
      "text/plain": [
       "<AxesSubplot:xlabel='online_order', ylabel='rate'>"
      ]
     },
     "execution_count": 83,
     "metadata": {},
     "output_type": "execute_result"
    },
    {
     "data": {
      "image/png": "[encoded data removed]",
      "text/plain": [
       "<Figure size 432x432 with 1 Axes>"
      ]
     },
     "metadata": {
      "needs_background": "light"
     },
     "output_type": "display_data"
    }
   ],
   "source": [
    "# TO Violinplot is used to to find value as well as distribution\n",
    "plt.figure(figsize=(6,6))\n",
    "sns.violinplot(x='online_order', y='rate', data=data)"
   ]
  },
  {
   "cell_type": "code",
   "execution_count": 55,
   "id": "6ff4af55",
   "metadata": {
    "scrolled": true
   },
   "outputs": [
    {
     "data": {
      "text/plain": [
       "<AxesSubplot:xlabel='rate', ylabel='Count'>"
      ]
     },
     "execution_count": 55,
     "metadata": {},
     "output_type": "execute_result"
    },
    {
     "data": {
      "image/png": "[encoded data removed]",
      "text/plain": [
       "<Figure size 432x288 with 1 Axes>"
      ]
     },
     "metadata": {
      "needs_background": "light"
     },
     "output_type": "display_data"
    }
   ],
   "source": [
    "sns.histplot(x = data.rate , bins = 15)"
   ]
  },
  {
   "cell_type": "code",
   "execution_count": 56,
   "id": "9c19c756",
   "metadata": {},
   "outputs": [
    {
     "data": {
      "text/plain": [
       "<AxesSubplot:xlabel='votes', ylabel='Count'>"
      ]
     },
     "execution_count": 56,
     "metadata": {},
     "output_type": "execute_result"
    },
    {
     "data": {
      "image/png": "[encoded data removed]",
      "text/plain": [
       "<Figure size 432x288 with 1 Axes>"
      ]
     },
     "metadata": {
      "needs_background": "light"
     },
     "output_type": "display_data"
    }
   ],
   "source": [
    "sns.histplot(x = data.votes , bins = 5)"
   ]
  },
  {
   "cell_type": "code",
   "execution_count": 57,
   "id": "0bf991e3",
   "metadata": {},
   "outputs": [
    {
     "data": {
      "text/plain": [
       "<AxesSubplot:xlabel='Cost2Plates', ylabel='Count'>"
      ]
     },
     "execution_count": 57,
     "metadata": {},
     "output_type": "execute_result"
    },
    {
     "data": {
      "image/png": "[encoded data removed]",
      "text/plain": [
       "<Figure size 432x288 with 1 Axes>"
      ]
     },
     "metadata": {
      "needs_background": "light"
     },
     "output_type": "display_data"
    }
   ],
   "source": [
    "sns.histplot(x = data.Cost2Plates , bins = 5)"
   ]
  },
  {
   "cell_type": "markdown",
   "id": "0ffdba2d",
   "metadata": {
    "papermill": {
     "duration": 0.018563,
     "end_time": "2022-07-21T09:39:38.301572",
     "exception": false,
     "start_time": "2022-07-21T09:39:38.283009",
     "status": "completed"
    },
    "tags": []
   },
   "source": [
    "# Visualization Book table vs rate"
   ]
  },
  {
   "cell_type": "markdown",
   "id": "7f976057",
   "metadata": {
    "papermill": {
     "duration": 0.018623,
     "end_time": "2022-07-21T09:39:38.339201",
     "exception": false,
     "start_time": "2022-07-21T09:39:38.320578",
     "status": "completed"
    },
    "tags": []
   },
   "source": [
    "#### Boxplot is also used to find the outliers of the data, While traing a ML model"
   ]
  },
  {
   "cell_type": "code",
   "execution_count": 84,
   "id": "91ec1684",
   "metadata": {
    "execution": {
     "iopub.execute_input": "2022-07-21T09:39:38.379575Z",
     "iopub.status.busy": "2022-07-21T09:39:38.378335Z",
     "iopub.status.idle": "2022-07-21T09:39:38.570660Z",
     "shell.execute_reply": "2022-07-21T09:39:38.569875Z"
    },
    "papermill": {
     "duration": 0.214572,
     "end_time": "2022-07-21T09:39:38.572755",
     "exception": false,
     "start_time": "2022-07-21T09:39:38.358183",
     "status": "completed"
    },
    "tags": []
   },
   "outputs": [
    {
     "data": {
      "text/plain": [
       "<AxesSubplot:xlabel='book_table', ylabel='rate'>"
      ]
     },
     "execution_count": 84,
     "metadata": {},
     "output_type": "execute_result"
    },
    {
     "data": {
      "image/png": "[encoded data removed]",
      "text/plain": [
       "<Figure size 432x432 with 1 Axes>"
      ]
     },
     "metadata": {
      "needs_background": "light"
     },
     "output_type": "display_data"
    }
   ],
   "source": [
    "plt.figure(figsize=(6,6))\n",
    "sns.boxplot(x='book_table', y='rate', data=data)"
   ]
  },
  {
   "cell_type": "markdown",
   "id": "44953b9f",
   "metadata": {
    "papermill": {
     "duration": 0.019632,
     "end_time": "2022-07-21T09:39:38.612742",
     "exception": false,
     "start_time": "2022-07-21T09:39:38.593110",
     "status": "completed"
    },
    "tags": []
   },
   "source": [
    "# Visualization online order vs locatione"
   ]
  },
  {
   "cell_type": "markdown",
   "id": "45053465",
   "metadata": {
    "papermill": {
     "duration": 0.020004,
     "end_time": "2022-07-21T09:39:38.652809",
     "exception": false,
     "start_time": "2022-07-21T09:39:38.632805",
     "status": "completed"
    },
    "tags": []
   },
   "source": [
    "#### For this we have to learn how to group the DATA"
   ]
  },
  {
   "cell_type": "markdown",
   "id": "cd482142",
   "metadata": {
    "papermill": {
     "duration": 0.019531,
     "end_time": "2022-07-21T09:39:38.692073",
     "exception": false,
     "start_time": "2022-07-21T09:39:38.672542",
     "status": "completed"
    },
    "tags": []
   },
   "source": [
    "### I want to see how many resturent provide online order based on location\n",
    "#### step 1: First Thing I will do is to group the dataframe with location and online order===> data.grpupby['loaction','online_order'])\n",
    "#### Step 2: After grouping we will select the parameter on which we will apply function such as count(),avg() ===> data.grpupby['loaction','online_order'])['name']\n",
    "#### Step 3: At last we select the function we want to apply, In this case we need to find no. of resturents so we will use count() ===> data.grpupby['loaction','online_order'])['name'].count()"
   ]
  },
  {
   "cell_type": "code",
   "execution_count": 58,
   "id": "03520a07",
   "metadata": {},
   "outputs": [
    {
     "data": {
      "text/html": [
       "<div>\n",
       "<style scoped>\n",
       "    .dataframe tbody tr th:only-of-type {\n",
       "        vertical-align: middle;\n",
       "    }\n",
       "\n",
       "    .dataframe tbody tr th {\n",
       "        vertical-align: top;\n",
       "    }\n",
       "\n",
       "    .dataframe thead th {\n",
       "        text-align: right;\n",
       "    }\n",
       "</style>\n",
       "<table border=\"1\" class=\"dataframe\">\n",
       "  <thead>\n",
       "    <tr style=\"text-align: right;\">\n",
       "      <th></th>\n",
       "      <th>name</th>\n",
       "      <th>online_order</th>\n",
       "      <th>book_table</th>\n",
       "      <th>rate</th>\n",
       "      <th>votes</th>\n",
       "      <th>location</th>\n",
       "      <th>rest_type</th>\n",
       "      <th>cuisines</th>\n",
       "      <th>Cost2Plates</th>\n",
       "      <th>Type</th>\n",
       "    </tr>\n",
       "  </thead>\n",
       "  <tbody>\n",
       "    <tr>\n",
       "      <th>22216</th>\n",
       "      <td>RK Fresh Food</td>\n",
       "      <td>Yes</td>\n",
       "      <td>No</td>\n",
       "      <td>3.5</td>\n",
       "      <td>13</td>\n",
       "      <td>BTM</td>\n",
       "      <td>Quick Bites</td>\n",
       "      <td>Fast Food</td>\n",
       "      <td>300</td>\n",
       "      <td>Delivery</td>\n",
       "    </tr>\n",
       "  </tbody>\n",
       "</table>\n",
       "</div>"
      ],
      "text/plain": [
       "                name online_order book_table  rate  votes location  \\\n",
       "22216  RK Fresh Food          Yes         No   3.5     13      BTM   \n",
       "\n",
       "         rest_type   cuisines  Cost2Plates      Type  \n",
       "22216  Quick Bites  Fast Food          300  Delivery  "
      ]
     },
     "execution_count": 58,
     "metadata": {},
     "output_type": "execute_result"
    }
   ],
   "source": [
    "data.sample()"
   ]
  },
  {
   "cell_type": "code",
   "execution_count": 60,
   "id": "3d2c0fed",
   "metadata": {},
   "outputs": [
    {
     "data": {
      "text/plain": [
       "location      online_order\n",
       "BTM           No              1763\n",
       "              Yes             3293\n",
       "Banashankari  No               397\n",
       "              Yes              505\n",
       "Banaswadi     No               302\n",
       "                              ... \n",
       "Ulsoor        Yes              622\n",
       "Whitefield    No               986\n",
       "              Yes             1119\n",
       "others        No              3672\n",
       "              Yes             4335\n",
       "Name: name, Length: 70, dtype: int64"
      ]
     },
     "execution_count": 60,
     "metadata": {},
     "output_type": "execute_result"
    }
   ],
   "source": [
    "df1=data.groupby(['location','online_order'])['name'].count()\n",
    "df1"
   ]
  },
  {
   "cell_type": "code",
   "execution_count": 61,
   "id": "570bbdae",
   "metadata": {},
   "outputs": [
    {
     "data": {
      "text/html": [
       "<div>\n",
       "<style scoped>\n",
       "    .dataframe tbody tr th:only-of-type {\n",
       "        vertical-align: middle;\n",
       "    }\n",
       "\n",
       "    .dataframe tbody tr th {\n",
       "        vertical-align: top;\n",
       "    }\n",
       "\n",
       "    .dataframe thead th {\n",
       "        text-align: right;\n",
       "    }\n",
       "</style>\n",
       "<table border=\"1\" class=\"dataframe\">\n",
       "  <thead>\n",
       "    <tr style=\"text-align: right;\">\n",
       "      <th></th>\n",
       "      <th>location</th>\n",
       "      <th>online_order</th>\n",
       "      <th>name</th>\n",
       "    </tr>\n",
       "  </thead>\n",
       "  <tbody>\n",
       "    <tr>\n",
       "      <th>0</th>\n",
       "      <td>BTM</td>\n",
       "      <td>No</td>\n",
       "      <td>1763</td>\n",
       "    </tr>\n",
       "    <tr>\n",
       "      <th>1</th>\n",
       "      <td>BTM</td>\n",
       "      <td>Yes</td>\n",
       "      <td>3293</td>\n",
       "    </tr>\n",
       "    <tr>\n",
       "      <th>2</th>\n",
       "      <td>Banashankari</td>\n",
       "      <td>No</td>\n",
       "      <td>397</td>\n",
       "    </tr>\n",
       "    <tr>\n",
       "      <th>3</th>\n",
       "      <td>Banashankari</td>\n",
       "      <td>Yes</td>\n",
       "      <td>505</td>\n",
       "    </tr>\n",
       "    <tr>\n",
       "      <th>4</th>\n",
       "      <td>Banaswadi</td>\n",
       "      <td>No</td>\n",
       "      <td>302</td>\n",
       "    </tr>\n",
       "    <tr>\n",
       "      <th>...</th>\n",
       "      <td>...</td>\n",
       "      <td>...</td>\n",
       "      <td>...</td>\n",
       "    </tr>\n",
       "    <tr>\n",
       "      <th>65</th>\n",
       "      <td>Ulsoor</td>\n",
       "      <td>Yes</td>\n",
       "      <td>622</td>\n",
       "    </tr>\n",
       "    <tr>\n",
       "      <th>66</th>\n",
       "      <td>Whitefield</td>\n",
       "      <td>No</td>\n",
       "      <td>986</td>\n",
       "    </tr>\n",
       "    <tr>\n",
       "      <th>67</th>\n",
       "      <td>Whitefield</td>\n",
       "      <td>Yes</td>\n",
       "      <td>1119</td>\n",
       "    </tr>\n",
       "    <tr>\n",
       "      <th>68</th>\n",
       "      <td>others</td>\n",
       "      <td>No</td>\n",
       "      <td>3672</td>\n",
       "    </tr>\n",
       "    <tr>\n",
       "      <th>69</th>\n",
       "      <td>others</td>\n",
       "      <td>Yes</td>\n",
       "      <td>4335</td>\n",
       "    </tr>\n",
       "  </tbody>\n",
       "</table>\n",
       "<p>70 rows × 3 columns</p>\n",
       "</div>"
      ],
      "text/plain": [
       "        location online_order  name\n",
       "0            BTM           No  1763\n",
       "1            BTM          Yes  3293\n",
       "2   Banashankari           No   397\n",
       "3   Banashankari          Yes   505\n",
       "4      Banaswadi           No   302\n",
       "..           ...          ...   ...\n",
       "65        Ulsoor          Yes   622\n",
       "66    Whitefield           No   986\n",
       "67    Whitefield          Yes  1119\n",
       "68        others           No  3672\n",
       "69        others          Yes  4335\n",
       "\n",
       "[70 rows x 3 columns]"
      ]
     },
     "execution_count": 61,
     "metadata": {},
     "output_type": "execute_result"
    }
   ],
   "source": [
    "# To plot the data we nwwd to do these steps\n",
    "# Save the new data frame in csv formate\n",
    "df1.to_csv('location_online.csv')\n",
    "# read the data frame\n",
    "df1=pd.read_csv('location_online.csv')\n",
    "df1"
   ]
  },
  {
   "cell_type": "code",
   "execution_count": 147,
   "id": "903b8b44",
   "metadata": {},
   "outputs": [
    {
     "data": {
      "text/html": [
       "<div>\n",
       "<style scoped>\n",
       "    .dataframe tbody tr th:only-of-type {\n",
       "        vertical-align: middle;\n",
       "    }\n",
       "\n",
       "    .dataframe tbody tr th {\n",
       "        vertical-align: top;\n",
       "    }\n",
       "\n",
       "    .dataframe thead tr th {\n",
       "        text-align: left;\n",
       "    }\n",
       "\n",
       "    .dataframe thead tr:last-of-type th {\n",
       "        text-align: right;\n",
       "    }\n",
       "</style>\n",
       "<table border=\"1\" class=\"dataframe\">\n",
       "  <thead>\n",
       "    <tr>\n",
       "      <th></th>\n",
       "      <th colspan=\"2\" halign=\"left\">name</th>\n",
       "    </tr>\n",
       "    <tr>\n",
       "      <th>online_order</th>\n",
       "      <th>No</th>\n",
       "      <th>Yes</th>\n",
       "    </tr>\n",
       "    <tr>\n",
       "      <th>location</th>\n",
       "      <th></th>\n",
       "      <th></th>\n",
       "    </tr>\n",
       "  </thead>\n",
       "  <tbody>\n",
       "    <tr>\n",
       "      <th>BTM</th>\n",
       "      <td>1763</td>\n",
       "      <td>3293</td>\n",
       "    </tr>\n",
       "    <tr>\n",
       "      <th>Banashankari</th>\n",
       "      <td>397</td>\n",
       "      <td>505</td>\n",
       "    </tr>\n",
       "    <tr>\n",
       "      <th>Banaswadi</th>\n",
       "      <td>302</td>\n",
       "      <td>338</td>\n",
       "    </tr>\n",
       "    <tr>\n",
       "      <th>Bannerghatta Road</th>\n",
       "      <td>685</td>\n",
       "      <td>924</td>\n",
       "    </tr>\n",
       "    <tr>\n",
       "      <th>Basavanagudi</th>\n",
       "      <td>243</td>\n",
       "      <td>441</td>\n",
       "    </tr>\n",
       "    <tr>\n",
       "      <th>Bellandur</th>\n",
       "      <td>517</td>\n",
       "      <td>751</td>\n",
       "    </tr>\n",
       "    <tr>\n",
       "      <th>Brigade Road</th>\n",
       "      <td>552</td>\n",
       "      <td>658</td>\n",
       "    </tr>\n",
       "    <tr>\n",
       "      <th>Brookefield</th>\n",
       "      <td>239</td>\n",
       "      <td>417</td>\n",
       "    </tr>\n",
       "    <tr>\n",
       "      <th>Church Street</th>\n",
       "      <td>226</td>\n",
       "      <td>340</td>\n",
       "    </tr>\n",
       "    <tr>\n",
       "      <th>Electronic City</th>\n",
       "      <td>676</td>\n",
       "      <td>570</td>\n",
       "    </tr>\n",
       "    <tr>\n",
       "      <th>Frazer Town</th>\n",
       "      <td>287</td>\n",
       "      <td>427</td>\n",
       "    </tr>\n",
       "    <tr>\n",
       "      <th>HSR</th>\n",
       "      <td>584</td>\n",
       "      <td>1910</td>\n",
       "    </tr>\n",
       "    <tr>\n",
       "      <th>Indiranagar</th>\n",
       "      <td>697</td>\n",
       "      <td>1329</td>\n",
       "    </tr>\n",
       "    <tr>\n",
       "      <th>JP Nagar</th>\n",
       "      <td>911</td>\n",
       "      <td>1307</td>\n",
       "    </tr>\n",
       "    <tr>\n",
       "      <th>Jayanagar</th>\n",
       "      <td>552</td>\n",
       "      <td>1364</td>\n",
       "    </tr>\n",
       "    <tr>\n",
       "      <th>Kalyan Nagar</th>\n",
       "      <td>350</td>\n",
       "      <td>491</td>\n",
       "    </tr>\n",
       "    <tr>\n",
       "      <th>Kammanahalli</th>\n",
       "      <td>264</td>\n",
       "      <td>375</td>\n",
       "    </tr>\n",
       "    <tr>\n",
       "      <th>Koramangala 1st Block</th>\n",
       "      <td>384</td>\n",
       "      <td>852</td>\n",
       "    </tr>\n",
       "    <tr>\n",
       "      <th>Koramangala 4th Block</th>\n",
       "      <td>459</td>\n",
       "      <td>558</td>\n",
       "    </tr>\n",
       "    <tr>\n",
       "      <th>Koramangala 5th Block</th>\n",
       "      <td>866</td>\n",
       "      <td>1613</td>\n",
       "    </tr>\n",
       "    <tr>\n",
       "      <th>Koramangala 6th Block</th>\n",
       "      <td>445</td>\n",
       "      <td>682</td>\n",
       "    </tr>\n",
       "    <tr>\n",
       "      <th>Koramangala 7th Block</th>\n",
       "      <td>389</td>\n",
       "      <td>785</td>\n",
       "    </tr>\n",
       "    <tr>\n",
       "      <th>Lavelle Road</th>\n",
       "      <td>315</td>\n",
       "      <td>203</td>\n",
       "    </tr>\n",
       "    <tr>\n",
       "      <th>MG Road</th>\n",
       "      <td>520</td>\n",
       "      <td>373</td>\n",
       "    </tr>\n",
       "    <tr>\n",
       "      <th>Malleshwaram</th>\n",
       "      <td>309</td>\n",
       "      <td>412</td>\n",
       "    </tr>\n",
       "    <tr>\n",
       "      <th>Marathahalli</th>\n",
       "      <td>701</td>\n",
       "      <td>1104</td>\n",
       "    </tr>\n",
       "    <tr>\n",
       "      <th>New BEL Road</th>\n",
       "      <td>255</td>\n",
       "      <td>389</td>\n",
       "    </tr>\n",
       "    <tr>\n",
       "      <th>Rajajinagar</th>\n",
       "      <td>286</td>\n",
       "      <td>305</td>\n",
       "    </tr>\n",
       "    <tr>\n",
       "      <th>Residency Road</th>\n",
       "      <td>424</td>\n",
       "      <td>247</td>\n",
       "    </tr>\n",
       "    <tr>\n",
       "      <th>Richmond Road</th>\n",
       "      <td>557</td>\n",
       "      <td>246</td>\n",
       "    </tr>\n",
       "    <tr>\n",
       "      <th>Sarjapur Road</th>\n",
       "      <td>323</td>\n",
       "      <td>724</td>\n",
       "    </tr>\n",
       "    <tr>\n",
       "      <th>Shanti Nagar</th>\n",
       "      <td>289</td>\n",
       "      <td>219</td>\n",
       "    </tr>\n",
       "    <tr>\n",
       "      <th>Ulsoor</th>\n",
       "      <td>389</td>\n",
       "      <td>622</td>\n",
       "    </tr>\n",
       "    <tr>\n",
       "      <th>Whitefield</th>\n",
       "      <td>986</td>\n",
       "      <td>1119</td>\n",
       "    </tr>\n",
       "    <tr>\n",
       "      <th>others</th>\n",
       "      <td>3672</td>\n",
       "      <td>4335</td>\n",
       "    </tr>\n",
       "  </tbody>\n",
       "</table>\n",
       "</div>"
      ],
      "text/plain": [
       "                       name      \n",
       "online_order             No   Yes\n",
       "location                         \n",
       "BTM                    1763  3293\n",
       "Banashankari            397   505\n",
       "Banaswadi               302   338\n",
       "Bannerghatta Road       685   924\n",
       "Basavanagudi            243   441\n",
       "Bellandur               517   751\n",
       "Brigade Road            552   658\n",
       "Brookefield             239   417\n",
       "Church Street           226   340\n",
       "Electronic City         676   570\n",
       "Frazer Town             287   427\n",
       "HSR                     584  1910\n",
       "Indiranagar             697  1329\n",
       "JP Nagar                911  1307\n",
       "Jayanagar               552  1364\n",
       "Kalyan Nagar            350   491\n",
       "Kammanahalli            264   375\n",
       "Koramangala 1st Block   384   852\n",
       "Koramangala 4th Block   459   558\n",
       "Koramangala 5th Block   866  1613\n",
       "Koramangala 6th Block   445   682\n",
       "Koramangala 7th Block   389   785\n",
       "Lavelle Road            315   203\n",
       "MG Road                 520   373\n",
       "Malleshwaram            309   412\n",
       "Marathahalli            701  1104\n",
       "New BEL Road            255   389\n",
       "Rajajinagar             286   305\n",
       "Residency Road          424   247\n",
       "Richmond Road           557   246\n",
       "Sarjapur Road           323   724\n",
       "Shanti Nagar            289   219\n",
       "Ulsoor                  389   622\n",
       "Whitefield              986  1119\n",
       "others                 3672  4335"
      ]
     },
     "execution_count": 147,
     "metadata": {},
     "output_type": "execute_result"
    }
   ],
   "source": [
    "# create a pivote table with location as index and online order as column\n",
    "df1=pd.pivot_table(df1, values=None,index='location',columns='online_order',fill_value=0,aggfunc=np.sum)\n",
    "# Table will look like this\n",
    "df1"
   ]
  },
  {
   "cell_type": "code",
   "execution_count": 148,
   "id": "1126b991",
   "metadata": {
    "execution": {
     "iopub.execute_input": "2022-07-21T09:39:38.862739Z",
     "iopub.status.busy": "2022-07-21T09:39:38.862020Z",
     "iopub.status.idle": "2022-07-21T09:39:39.333108Z",
     "shell.execute_reply": "2022-07-21T09:39:39.331662Z"
    },
    "papermill": {
     "duration": 0.495309,
     "end_time": "2022-07-21T09:39:39.335535",
     "exception": false,
     "start_time": "2022-07-21T09:39:38.840226",
     "status": "completed"
    },
    "scrolled": false,
    "tags": []
   },
   "outputs": [
    {
     "data": {
      "text/plain": [
       "<AxesSubplot:xlabel='location'>"
      ]
     },
     "execution_count": 148,
     "metadata": {},
     "output_type": "execute_result"
    },
    {
     "data": {
      "image/png": "[encoded data removed]",
      "text/plain": [
       "<Figure size 1080x432 with 1 Axes>"
      ]
     },
     "metadata": {
      "needs_background": "light"
     },
     "output_type": "display_data"
    }
   ],
   "source": [
    "df1.plot(kind='bar', figsize=(15,6))"
   ]
  },
  {
   "cell_type": "code",
   "execution_count": null,
   "id": "866966e7",
   "metadata": {},
   "outputs": [],
   "source": []
  },
  {
   "cell_type": "markdown",
   "id": "bd7c2385",
   "metadata": {
    "papermill": {
     "duration": 0.020463,
     "end_time": "2022-07-21T09:39:39.377316",
     "exception": false,
     "start_time": "2022-07-21T09:39:39.356853",
     "status": "completed"
    },
    "tags": []
   },
   "source": [
    "# Visualization Book table vs location"
   ]
  },
  {
   "cell_type": "markdown",
   "id": "f914ee30",
   "metadata": {
    "papermill": {
     "duration": 0.020291,
     "end_time": "2022-07-21T09:39:39.418166",
     "exception": false,
     "start_time": "2022-07-21T09:39:39.397875",
     "status": "completed"
    },
    "tags": []
   },
   "source": [
    "#### Same Process we did above"
   ]
  },
  {
   "cell_type": "code",
   "execution_count": 149,
   "id": "0565fc85",
   "metadata": {
    "execution": {
     "iopub.execute_input": "2022-07-21T09:39:39.462023Z",
     "iopub.status.busy": "2022-07-21T09:39:39.460926Z",
     "iopub.status.idle": "2022-07-21T09:39:39.497113Z",
     "shell.execute_reply": "2022-07-21T09:39:39.495919Z"
    },
    "papermill": {
     "duration": 0.0603,
     "end_time": "2022-07-21T09:39:39.499301",
     "exception": false,
     "start_time": "2022-07-21T09:39:39.439001",
     "status": "completed"
    },
    "tags": []
   },
   "outputs": [
    {
     "data": {
      "text/html": [
       "<div>\n",
       "<style scoped>\n",
       "    .dataframe tbody tr th:only-of-type {\n",
       "        vertical-align: middle;\n",
       "    }\n",
       "\n",
       "    .dataframe tbody tr th {\n",
       "        vertical-align: top;\n",
       "    }\n",
       "\n",
       "    .dataframe thead tr th {\n",
       "        text-align: left;\n",
       "    }\n",
       "\n",
       "    .dataframe thead tr:last-of-type th {\n",
       "        text-align: right;\n",
       "    }\n",
       "</style>\n",
       "<table border=\"1\" class=\"dataframe\">\n",
       "  <thead>\n",
       "    <tr>\n",
       "      <th></th>\n",
       "      <th colspan=\"2\" halign=\"left\">name</th>\n",
       "    </tr>\n",
       "    <tr>\n",
       "      <th>book_table</th>\n",
       "      <th>No</th>\n",
       "      <th>Yes</th>\n",
       "    </tr>\n",
       "    <tr>\n",
       "      <th>location</th>\n",
       "      <th></th>\n",
       "      <th></th>\n",
       "    </tr>\n",
       "  </thead>\n",
       "  <tbody>\n",
       "    <tr>\n",
       "      <th>BTM</th>\n",
       "      <td>4889</td>\n",
       "      <td>167</td>\n",
       "    </tr>\n",
       "    <tr>\n",
       "      <th>Banashankari</th>\n",
       "      <td>839</td>\n",
       "      <td>63</td>\n",
       "    </tr>\n",
       "    <tr>\n",
       "      <th>Banaswadi</th>\n",
       "      <td>632</td>\n",
       "      <td>8</td>\n",
       "    </tr>\n",
       "    <tr>\n",
       "      <th>Bannerghatta Road</th>\n",
       "      <td>1510</td>\n",
       "      <td>99</td>\n",
       "    </tr>\n",
       "    <tr>\n",
       "      <th>Basavanagudi</th>\n",
       "      <td>668</td>\n",
       "      <td>16</td>\n",
       "    </tr>\n",
       "    <tr>\n",
       "      <th>Bellandur</th>\n",
       "      <td>1170</td>\n",
       "      <td>98</td>\n",
       "    </tr>\n",
       "    <tr>\n",
       "      <th>Brigade Road</th>\n",
       "      <td>1034</td>\n",
       "      <td>176</td>\n",
       "    </tr>\n",
       "    <tr>\n",
       "      <th>Brookefield</th>\n",
       "      <td>582</td>\n",
       "      <td>74</td>\n",
       "    </tr>\n",
       "    <tr>\n",
       "      <th>Church Street</th>\n",
       "      <td>385</td>\n",
       "      <td>181</td>\n",
       "    </tr>\n",
       "    <tr>\n",
       "      <th>Electronic City</th>\n",
       "      <td>1148</td>\n",
       "      <td>98</td>\n",
       "    </tr>\n",
       "    <tr>\n",
       "      <th>Frazer Town</th>\n",
       "      <td>706</td>\n",
       "      <td>8</td>\n",
       "    </tr>\n",
       "    <tr>\n",
       "      <th>HSR</th>\n",
       "      <td>2277</td>\n",
       "      <td>217</td>\n",
       "    </tr>\n",
       "    <tr>\n",
       "      <th>Indiranagar</th>\n",
       "      <td>1578</td>\n",
       "      <td>448</td>\n",
       "    </tr>\n",
       "    <tr>\n",
       "      <th>JP Nagar</th>\n",
       "      <td>1903</td>\n",
       "      <td>315</td>\n",
       "    </tr>\n",
       "    <tr>\n",
       "      <th>Jayanagar</th>\n",
       "      <td>1637</td>\n",
       "      <td>279</td>\n",
       "    </tr>\n",
       "    <tr>\n",
       "      <th>Kalyan Nagar</th>\n",
       "      <td>692</td>\n",
       "      <td>149</td>\n",
       "    </tr>\n",
       "    <tr>\n",
       "      <th>Kammanahalli</th>\n",
       "      <td>590</td>\n",
       "      <td>49</td>\n",
       "    </tr>\n",
       "    <tr>\n",
       "      <th>Koramangala 1st Block</th>\n",
       "      <td>1186</td>\n",
       "      <td>50</td>\n",
       "    </tr>\n",
       "    <tr>\n",
       "      <th>Koramangala 4th Block</th>\n",
       "      <td>695</td>\n",
       "      <td>322</td>\n",
       "    </tr>\n",
       "    <tr>\n",
       "      <th>Koramangala 5th Block</th>\n",
       "      <td>1787</td>\n",
       "      <td>692</td>\n",
       "    </tr>\n",
       "    <tr>\n",
       "      <th>Koramangala 6th Block</th>\n",
       "      <td>1015</td>\n",
       "      <td>112</td>\n",
       "    </tr>\n",
       "    <tr>\n",
       "      <th>Koramangala 7th Block</th>\n",
       "      <td>1012</td>\n",
       "      <td>162</td>\n",
       "    </tr>\n",
       "    <tr>\n",
       "      <th>Lavelle Road</th>\n",
       "      <td>290</td>\n",
       "      <td>228</td>\n",
       "    </tr>\n",
       "    <tr>\n",
       "      <th>MG Road</th>\n",
       "      <td>546</td>\n",
       "      <td>347</td>\n",
       "    </tr>\n",
       "    <tr>\n",
       "      <th>Malleshwaram</th>\n",
       "      <td>632</td>\n",
       "      <td>89</td>\n",
       "    </tr>\n",
       "    <tr>\n",
       "      <th>Marathahalli</th>\n",
       "      <td>1642</td>\n",
       "      <td>163</td>\n",
       "    </tr>\n",
       "    <tr>\n",
       "      <th>New BEL Road</th>\n",
       "      <td>588</td>\n",
       "      <td>56</td>\n",
       "    </tr>\n",
       "    <tr>\n",
       "      <th>Rajajinagar</th>\n",
       "      <td>550</td>\n",
       "      <td>41</td>\n",
       "    </tr>\n",
       "    <tr>\n",
       "      <th>Residency Road</th>\n",
       "      <td>522</td>\n",
       "      <td>149</td>\n",
       "    </tr>\n",
       "    <tr>\n",
       "      <th>Richmond Road</th>\n",
       "      <td>687</td>\n",
       "      <td>116</td>\n",
       "    </tr>\n",
       "    <tr>\n",
       "      <th>Sarjapur Road</th>\n",
       "      <td>893</td>\n",
       "      <td>154</td>\n",
       "    </tr>\n",
       "    <tr>\n",
       "      <th>Shanti Nagar</th>\n",
       "      <td>451</td>\n",
       "      <td>57</td>\n",
       "    </tr>\n",
       "    <tr>\n",
       "      <th>Ulsoor</th>\n",
       "      <td>834</td>\n",
       "      <td>177</td>\n",
       "    </tr>\n",
       "    <tr>\n",
       "      <th>Whitefield</th>\n",
       "      <td>1852</td>\n",
       "      <td>253</td>\n",
       "    </tr>\n",
       "    <tr>\n",
       "      <th>others</th>\n",
       "      <td>7204</td>\n",
       "      <td>803</td>\n",
       "    </tr>\n",
       "  </tbody>\n",
       "</table>\n",
       "</div>"
      ],
      "text/plain": [
       "                       name     \n",
       "book_table               No  Yes\n",
       "location                        \n",
       "BTM                    4889  167\n",
       "Banashankari            839   63\n",
       "Banaswadi               632    8\n",
       "Bannerghatta Road      1510   99\n",
       "Basavanagudi            668   16\n",
       "Bellandur              1170   98\n",
       "Brigade Road           1034  176\n",
       "Brookefield             582   74\n",
       "Church Street           385  181\n",
       "Electronic City        1148   98\n",
       "Frazer Town             706    8\n",
       "HSR                    2277  217\n",
       "Indiranagar            1578  448\n",
       "JP Nagar               1903  315\n",
       "Jayanagar              1637  279\n",
       "Kalyan Nagar            692  149\n",
       "Kammanahalli            590   49\n",
       "Koramangala 1st Block  1186   50\n",
       "Koramangala 4th Block   695  322\n",
       "Koramangala 5th Block  1787  692\n",
       "Koramangala 6th Block  1015  112\n",
       "Koramangala 7th Block  1012  162\n",
       "Lavelle Road            290  228\n",
       "MG Road                 546  347\n",
       "Malleshwaram            632   89\n",
       "Marathahalli           1642  163\n",
       "New BEL Road            588   56\n",
       "Rajajinagar             550   41\n",
       "Residency Road          522  149\n",
       "Richmond Road           687  116\n",
       "Sarjapur Road           893  154\n",
       "Shanti Nagar            451   57\n",
       "Ulsoor                  834  177\n",
       "Whitefield             1852  253\n",
       "others                 7204  803"
      ]
     },
     "execution_count": 149,
     "metadata": {},
     "output_type": "execute_result"
    }
   ],
   "source": [
    "data2=data.groupby(['book_table','location'])['name'].count()\n",
    "data2.to_csv('book_table.csv')\n",
    "data2=pd.read_csv('book_table.csv')\n",
    "data2=pd.pivot_table(data2, values=None,index='location',columns='book_table',fill_value=0,aggfunc=np.sum)\n",
    "data2"
   ]
  },
  {
   "cell_type": "code",
   "execution_count": 150,
   "id": "15169ce2",
   "metadata": {
    "execution": {
     "iopub.execute_input": "2022-07-21T09:39:39.543930Z",
     "iopub.status.busy": "2022-07-21T09:39:39.543146Z",
     "iopub.status.idle": "2022-07-21T09:39:40.000468Z",
     "shell.execute_reply": "2022-07-21T09:39:39.999314Z"
    },
    "papermill": {
     "duration": 0.482633,
     "end_time": "2022-07-21T09:39:40.003011",
     "exception": false,
     "start_time": "2022-07-21T09:39:39.520378",
     "status": "completed"
    },
    "tags": []
   },
   "outputs": [
    {
     "data": {
      "text/plain": [
       "<AxesSubplot:xlabel='location'>"
      ]
     },
     "execution_count": 150,
     "metadata": {},
     "output_type": "execute_result"
    },
    {
     "data": {
      "image/png": "[encoded data removed]",
      "text/plain": [
       "<Figure size 1080x432 with 1 Axes>"
      ]
     },
     "metadata": {
      "needs_background": "light"
     },
     "output_type": "display_data"
    }
   ],
   "source": [
    "data2.plot(kind='bar', figsize=(15,6))"
   ]
  },
  {
   "cell_type": "markdown",
   "id": "15750dcf",
   "metadata": {
    "papermill": {
     "duration": 0.022237,
     "end_time": "2022-07-21T09:39:40.047406",
     "exception": false,
     "start_time": "2022-07-21T09:39:40.025169",
     "status": "completed"
    },
    "tags": []
   },
   "source": [
    "# Visualization types of resturent vs rate"
   ]
  },
  {
   "cell_type": "code",
   "execution_count": 152,
   "id": "fd7467c8",
   "metadata": {
    "execution": {
     "iopub.execute_input": "2022-07-21T09:39:40.137071Z",
     "iopub.status.busy": "2022-07-21T09:39:40.136133Z",
     "iopub.status.idle": "2022-07-21T09:39:40.417198Z",
     "shell.execute_reply": "2022-07-21T09:39:40.416409Z"
    },
    "papermill": {
     "duration": 0.306069,
     "end_time": "2022-07-21T09:39:40.419308",
     "exception": false,
     "start_time": "2022-07-21T09:39:40.113239",
     "status": "completed"
    },
    "tags": []
   },
   "outputs": [
    {
     "data": {
      "text/plain": [
       "<AxesSubplot:xlabel='Type', ylabel='rate'>"
      ]
     },
     "execution_count": 152,
     "metadata": {},
     "output_type": "execute_result"
    },
    {
     "data": {
      "image/png": "[encoded data removed]",
      "text/plain": [
       "<Figure size 1008x576 with 1 Axes>"
      ]
     },
     "metadata": {
      "needs_background": "light"
     },
     "output_type": "display_data"
    }
   ],
   "source": [
    "plt.figure(figsize=(14,8))\n",
    "sns.barplot(x = 'Type', y='rate', data=data, palette='inferno')"
   ]
  },
  {
   "cell_type": "code",
   "execution_count": null,
   "id": "9d455a37",
   "metadata": {},
   "outputs": [],
   "source": []
  },
  {
   "cell_type": "markdown",
   "id": "8c75d889",
   "metadata": {
    "papermill": {
     "duration": 0.021504,
     "end_time": "2022-07-21T09:39:40.462719",
     "exception": false,
     "start_time": "2022-07-21T09:39:40.441215",
     "status": "completed"
    },
    "tags": []
   },
   "source": [
    "# Visualization Types of rest vs location"
   ]
  },
  {
   "cell_type": "code",
   "execution_count": 90,
   "id": "95fed339",
   "metadata": {
    "execution": {
     "iopub.execute_input": "2022-07-21T09:39:40.508800Z",
     "iopub.status.busy": "2022-07-21T09:39:40.507978Z",
     "iopub.status.idle": "2022-07-21T09:39:40.550318Z",
     "shell.execute_reply": "2022-07-21T09:39:40.549287Z"
    },
    "papermill": {
     "duration": 0.067856,
     "end_time": "2022-07-21T09:39:40.552732",
     "exception": false,
     "start_time": "2022-07-21T09:39:40.484876",
     "status": "completed"
    },
    "tags": []
   },
   "outputs": [
    {
     "data": {
      "text/html": [
       "<div>\n",
       "<style scoped>\n",
       "    .dataframe tbody tr th:only-of-type {\n",
       "        vertical-align: middle;\n",
       "    }\n",
       "\n",
       "    .dataframe tbody tr th {\n",
       "        vertical-align: top;\n",
       "    }\n",
       "\n",
       "    .dataframe thead tr th {\n",
       "        text-align: left;\n",
       "    }\n",
       "\n",
       "    .dataframe thead tr:last-of-type th {\n",
       "        text-align: right;\n",
       "    }\n",
       "</style>\n",
       "<table border=\"1\" class=\"dataframe\">\n",
       "  <thead>\n",
       "    <tr>\n",
       "      <th></th>\n",
       "      <th colspan=\"7\" halign=\"left\">name</th>\n",
       "    </tr>\n",
       "    <tr>\n",
       "      <th>Type</th>\n",
       "      <th>Buffet</th>\n",
       "      <th>Cafes</th>\n",
       "      <th>Delivery</th>\n",
       "      <th>Desserts</th>\n",
       "      <th>Dine-out</th>\n",
       "      <th>Drinks &amp; nightlife</th>\n",
       "      <th>Pubs and bars</th>\n",
       "    </tr>\n",
       "    <tr>\n",
       "      <th>location</th>\n",
       "      <th></th>\n",
       "      <th></th>\n",
       "      <th></th>\n",
       "      <th></th>\n",
       "      <th></th>\n",
       "      <th></th>\n",
       "      <th></th>\n",
       "    </tr>\n",
       "  </thead>\n",
       "  <tbody>\n",
       "    <tr>\n",
       "      <th>BTM</th>\n",
       "      <td>21</td>\n",
       "      <td>83</td>\n",
       "      <td>3053</td>\n",
       "      <td>198</td>\n",
       "      <td>1660</td>\n",
       "      <td>22</td>\n",
       "      <td>19</td>\n",
       "    </tr>\n",
       "    <tr>\n",
       "      <th>Banashankari</th>\n",
       "      <td>7</td>\n",
       "      <td>36</td>\n",
       "      <td>418</td>\n",
       "      <td>71</td>\n",
       "      <td>356</td>\n",
       "      <td>14</td>\n",
       "      <td>0</td>\n",
       "    </tr>\n",
       "    <tr>\n",
       "      <th>Banaswadi</th>\n",
       "      <td>0</td>\n",
       "      <td>24</td>\n",
       "      <td>310</td>\n",
       "      <td>37</td>\n",
       "      <td>262</td>\n",
       "      <td>6</td>\n",
       "      <td>1</td>\n",
       "    </tr>\n",
       "    <tr>\n",
       "      <th>Bannerghatta Road</th>\n",
       "      <td>9</td>\n",
       "      <td>46</td>\n",
       "      <td>828</td>\n",
       "      <td>137</td>\n",
       "      <td>578</td>\n",
       "      <td>9</td>\n",
       "      <td>2</td>\n",
       "    </tr>\n",
       "    <tr>\n",
       "      <th>Basavanagudi</th>\n",
       "      <td>7</td>\n",
       "      <td>11</td>\n",
       "      <td>344</td>\n",
       "      <td>66</td>\n",
       "      <td>251</td>\n",
       "      <td>5</td>\n",
       "      <td>0</td>\n",
       "    </tr>\n",
       "    <tr>\n",
       "      <th>Bellandur</th>\n",
       "      <td>28</td>\n",
       "      <td>36</td>\n",
       "      <td>617</td>\n",
       "      <td>75</td>\n",
       "      <td>479</td>\n",
       "      <td>17</td>\n",
       "      <td>16</td>\n",
       "    </tr>\n",
       "    <tr>\n",
       "      <th>Brigade Road</th>\n",
       "      <td>25</td>\n",
       "      <td>46</td>\n",
       "      <td>497</td>\n",
       "      <td>108</td>\n",
       "      <td>455</td>\n",
       "      <td>57</td>\n",
       "      <td>22</td>\n",
       "    </tr>\n",
       "    <tr>\n",
       "      <th>Brookefield</th>\n",
       "      <td>6</td>\n",
       "      <td>17</td>\n",
       "      <td>339</td>\n",
       "      <td>45</td>\n",
       "      <td>245</td>\n",
       "      <td>4</td>\n",
       "      <td>0</td>\n",
       "    </tr>\n",
       "    <tr>\n",
       "      <th>Church Street</th>\n",
       "      <td>19</td>\n",
       "      <td>51</td>\n",
       "      <td>193</td>\n",
       "      <td>29</td>\n",
       "      <td>215</td>\n",
       "      <td>36</td>\n",
       "      <td>23</td>\n",
       "    </tr>\n",
       "    <tr>\n",
       "      <th>Electronic City</th>\n",
       "      <td>23</td>\n",
       "      <td>24</td>\n",
       "      <td>570</td>\n",
       "      <td>71</td>\n",
       "      <td>516</td>\n",
       "      <td>21</td>\n",
       "      <td>21</td>\n",
       "    </tr>\n",
       "    <tr>\n",
       "      <th>Frazer Town</th>\n",
       "      <td>1</td>\n",
       "      <td>11</td>\n",
       "      <td>470</td>\n",
       "      <td>56</td>\n",
       "      <td>172</td>\n",
       "      <td>2</td>\n",
       "      <td>2</td>\n",
       "    </tr>\n",
       "    <tr>\n",
       "      <th>HSR</th>\n",
       "      <td>19</td>\n",
       "      <td>49</td>\n",
       "      <td>1694</td>\n",
       "      <td>120</td>\n",
       "      <td>580</td>\n",
       "      <td>14</td>\n",
       "      <td>18</td>\n",
       "    </tr>\n",
       "    <tr>\n",
       "      <th>Indiranagar</th>\n",
       "      <td>38</td>\n",
       "      <td>97</td>\n",
       "      <td>1091</td>\n",
       "      <td>140</td>\n",
       "      <td>529</td>\n",
       "      <td>65</td>\n",
       "      <td>66</td>\n",
       "    </tr>\n",
       "    <tr>\n",
       "      <th>JP Nagar</th>\n",
       "      <td>45</td>\n",
       "      <td>76</td>\n",
       "      <td>1151</td>\n",
       "      <td>166</td>\n",
       "      <td>722</td>\n",
       "      <td>51</td>\n",
       "      <td>7</td>\n",
       "    </tr>\n",
       "    <tr>\n",
       "      <th>Jayanagar</th>\n",
       "      <td>27</td>\n",
       "      <td>77</td>\n",
       "      <td>1043</td>\n",
       "      <td>182</td>\n",
       "      <td>575</td>\n",
       "      <td>12</td>\n",
       "      <td>0</td>\n",
       "    </tr>\n",
       "    <tr>\n",
       "      <th>Kalyan Nagar</th>\n",
       "      <td>9</td>\n",
       "      <td>45</td>\n",
       "      <td>366</td>\n",
       "      <td>88</td>\n",
       "      <td>315</td>\n",
       "      <td>18</td>\n",
       "      <td>0</td>\n",
       "    </tr>\n",
       "    <tr>\n",
       "      <th>Kammanahalli</th>\n",
       "      <td>2</td>\n",
       "      <td>27</td>\n",
       "      <td>329</td>\n",
       "      <td>35</td>\n",
       "      <td>240</td>\n",
       "      <td>6</td>\n",
       "      <td>0</td>\n",
       "    </tr>\n",
       "    <tr>\n",
       "      <th>Koramangala 1st Block</th>\n",
       "      <td>3</td>\n",
       "      <td>26</td>\n",
       "      <td>716</td>\n",
       "      <td>70</td>\n",
       "      <td>398</td>\n",
       "      <td>7</td>\n",
       "      <td>16</td>\n",
       "    </tr>\n",
       "    <tr>\n",
       "      <th>Koramangala 4th Block</th>\n",
       "      <td>21</td>\n",
       "      <td>53</td>\n",
       "      <td>464</td>\n",
       "      <td>81</td>\n",
       "      <td>302</td>\n",
       "      <td>62</td>\n",
       "      <td>34</td>\n",
       "    </tr>\n",
       "    <tr>\n",
       "      <th>Koramangala 5th Block</th>\n",
       "      <td>65</td>\n",
       "      <td>146</td>\n",
       "      <td>1075</td>\n",
       "      <td>209</td>\n",
       "      <td>842</td>\n",
       "      <td>84</td>\n",
       "      <td>58</td>\n",
       "    </tr>\n",
       "    <tr>\n",
       "      <th>Koramangala 6th Block</th>\n",
       "      <td>18</td>\n",
       "      <td>43</td>\n",
       "      <td>511</td>\n",
       "      <td>70</td>\n",
       "      <td>411</td>\n",
       "      <td>51</td>\n",
       "      <td>23</td>\n",
       "    </tr>\n",
       "    <tr>\n",
       "      <th>Koramangala 7th Block</th>\n",
       "      <td>25</td>\n",
       "      <td>52</td>\n",
       "      <td>503</td>\n",
       "      <td>127</td>\n",
       "      <td>417</td>\n",
       "      <td>25</td>\n",
       "      <td>25</td>\n",
       "    </tr>\n",
       "    <tr>\n",
       "      <th>Lavelle Road</th>\n",
       "      <td>30</td>\n",
       "      <td>27</td>\n",
       "      <td>127</td>\n",
       "      <td>50</td>\n",
       "      <td>191</td>\n",
       "      <td>59</td>\n",
       "      <td>34</td>\n",
       "    </tr>\n",
       "    <tr>\n",
       "      <th>MG Road</th>\n",
       "      <td>51</td>\n",
       "      <td>76</td>\n",
       "      <td>266</td>\n",
       "      <td>68</td>\n",
       "      <td>343</td>\n",
       "      <td>53</td>\n",
       "      <td>36</td>\n",
       "    </tr>\n",
       "    <tr>\n",
       "      <th>Malleshwaram</th>\n",
       "      <td>11</td>\n",
       "      <td>31</td>\n",
       "      <td>269</td>\n",
       "      <td>85</td>\n",
       "      <td>291</td>\n",
       "      <td>20</td>\n",
       "      <td>14</td>\n",
       "    </tr>\n",
       "    <tr>\n",
       "      <th>Marathahalli</th>\n",
       "      <td>34</td>\n",
       "      <td>32</td>\n",
       "      <td>980</td>\n",
       "      <td>105</td>\n",
       "      <td>630</td>\n",
       "      <td>22</td>\n",
       "      <td>2</td>\n",
       "    </tr>\n",
       "    <tr>\n",
       "      <th>New BEL Road</th>\n",
       "      <td>4</td>\n",
       "      <td>29</td>\n",
       "      <td>338</td>\n",
       "      <td>33</td>\n",
       "      <td>224</td>\n",
       "      <td>8</td>\n",
       "      <td>8</td>\n",
       "    </tr>\n",
       "    <tr>\n",
       "      <th>Rajajinagar</th>\n",
       "      <td>10</td>\n",
       "      <td>4</td>\n",
       "      <td>258</td>\n",
       "      <td>55</td>\n",
       "      <td>251</td>\n",
       "      <td>3</td>\n",
       "      <td>10</td>\n",
       "    </tr>\n",
       "    <tr>\n",
       "      <th>Residency Road</th>\n",
       "      <td>20</td>\n",
       "      <td>31</td>\n",
       "      <td>187</td>\n",
       "      <td>63</td>\n",
       "      <td>289</td>\n",
       "      <td>55</td>\n",
       "      <td>26</td>\n",
       "    </tr>\n",
       "    <tr>\n",
       "      <th>Richmond Road</th>\n",
       "      <td>63</td>\n",
       "      <td>21</td>\n",
       "      <td>257</td>\n",
       "      <td>78</td>\n",
       "      <td>356</td>\n",
       "      <td>16</td>\n",
       "      <td>12</td>\n",
       "    </tr>\n",
       "    <tr>\n",
       "      <th>Sarjapur Road</th>\n",
       "      <td>25</td>\n",
       "      <td>22</td>\n",
       "      <td>558</td>\n",
       "      <td>82</td>\n",
       "      <td>319</td>\n",
       "      <td>19</td>\n",
       "      <td>22</td>\n",
       "    </tr>\n",
       "    <tr>\n",
       "      <th>Shanti Nagar</th>\n",
       "      <td>9</td>\n",
       "      <td>22</td>\n",
       "      <td>198</td>\n",
       "      <td>39</td>\n",
       "      <td>229</td>\n",
       "      <td>9</td>\n",
       "      <td>2</td>\n",
       "    </tr>\n",
       "    <tr>\n",
       "      <th>Ulsoor</th>\n",
       "      <td>16</td>\n",
       "      <td>56</td>\n",
       "      <td>456</td>\n",
       "      <td>71</td>\n",
       "      <td>359</td>\n",
       "      <td>23</td>\n",
       "      <td>30</td>\n",
       "    </tr>\n",
       "    <tr>\n",
       "      <th>Whitefield</th>\n",
       "      <td>28</td>\n",
       "      <td>51</td>\n",
       "      <td>1041</td>\n",
       "      <td>137</td>\n",
       "      <td>768</td>\n",
       "      <td>47</td>\n",
       "      <td>33</td>\n",
       "    </tr>\n",
       "    <tr>\n",
       "      <th>others</th>\n",
       "      <td>150</td>\n",
       "      <td>225</td>\n",
       "      <td>4062</td>\n",
       "      <td>512</td>\n",
       "      <td>2792</td>\n",
       "      <td>162</td>\n",
       "      <td>104</td>\n",
       "    </tr>\n",
       "  </tbody>\n",
       "</table>\n",
       "</div>"
      ],
      "text/plain": [
       "                        name                                   \\\n",
       "Type                  Buffet Cafes Delivery Desserts Dine-out   \n",
       "location                                                        \n",
       "BTM                       21    83     3053      198     1660   \n",
       "Banashankari               7    36      418       71      356   \n",
       "Banaswadi                  0    24      310       37      262   \n",
       "Bannerghatta Road          9    46      828      137      578   \n",
       "Basavanagudi               7    11      344       66      251   \n",
       "Bellandur                 28    36      617       75      479   \n",
       "Brigade Road              25    46      497      108      455   \n",
       "Brookefield                6    17      339       45      245   \n",
       "Church Street             19    51      193       29      215   \n",
       "Electronic City           23    24      570       71      516   \n",
       "Frazer Town                1    11      470       56      172   \n",
       "HSR                       19    49     1694      120      580   \n",
       "Indiranagar               38    97     1091      140      529   \n",
       "JP Nagar                  45    76     1151      166      722   \n",
       "Jayanagar                 27    77     1043      182      575   \n",
       "Kalyan Nagar               9    45      366       88      315   \n",
       "Kammanahalli               2    27      329       35      240   \n",
       "Koramangala 1st Block      3    26      716       70      398   \n",
       "Koramangala 4th Block     21    53      464       81      302   \n",
       "Koramangala 5th Block     65   146     1075      209      842   \n",
       "Koramangala 6th Block     18    43      511       70      411   \n",
       "Koramangala 7th Block     25    52      503      127      417   \n",
       "Lavelle Road              30    27      127       50      191   \n",
       "MG Road                   51    76      266       68      343   \n",
       "Malleshwaram              11    31      269       85      291   \n",
       "Marathahalli              34    32      980      105      630   \n",
       "New BEL Road               4    29      338       33      224   \n",
       "Rajajinagar               10     4      258       55      251   \n",
       "Residency Road            20    31      187       63      289   \n",
       "Richmond Road             63    21      257       78      356   \n",
       "Sarjapur Road             25    22      558       82      319   \n",
       "Shanti Nagar               9    22      198       39      229   \n",
       "Ulsoor                    16    56      456       71      359   \n",
       "Whitefield                28    51     1041      137      768   \n",
       "others                   150   225     4062      512     2792   \n",
       "\n",
       "                                                        \n",
       "Type                  Drinks & nightlife Pubs and bars  \n",
       "location                                                \n",
       "BTM                                   22            19  \n",
       "Banashankari                          14             0  \n",
       "Banaswadi                              6             1  \n",
       "Bannerghatta Road                      9             2  \n",
       "Basavanagudi                           5             0  \n",
       "Bellandur                             17            16  \n",
       "Brigade Road                          57            22  \n",
       "Brookefield                            4             0  \n",
       "Church Street                         36            23  \n",
       "Electronic City                       21            21  \n",
       "Frazer Town                            2             2  \n",
       "HSR                                   14            18  \n",
       "Indiranagar                           65            66  \n",
       "JP Nagar                              51             7  \n",
       "Jayanagar                             12             0  \n",
       "Kalyan Nagar                          18             0  \n",
       "Kammanahalli                           6             0  \n",
       "Koramangala 1st Block                  7            16  \n",
       "Koramangala 4th Block                 62            34  \n",
       "Koramangala 5th Block                 84            58  \n",
       "Koramangala 6th Block                 51            23  \n",
       "Koramangala 7th Block                 25            25  \n",
       "Lavelle Road                          59            34  \n",
       "MG Road                               53            36  \n",
       "Malleshwaram                          20            14  \n",
       "Marathahalli                          22             2  \n",
       "New BEL Road                           8             8  \n",
       "Rajajinagar                            3            10  \n",
       "Residency Road                        55            26  \n",
       "Richmond Road                         16            12  \n",
       "Sarjapur Road                         19            22  \n",
       "Shanti Nagar                           9             2  \n",
       "Ulsoor                                23            30  \n",
       "Whitefield                            47            33  \n",
       "others                               162           104  "
      ]
     },
     "execution_count": 90,
     "metadata": {},
     "output_type": "execute_result"
    }
   ],
   "source": [
    "data3=data.groupby(['Type','location'])['name'].count()\n",
    "data3.to_csv('book_table.csv')\n",
    "data3=pd.read_csv('book_table.csv')\n",
    "data3=pd.pivot_table(data3, values=None,index='location',columns='Type',fill_value=0,aggfunc=np.sum)\n",
    "data3"
   ]
  },
  {
   "cell_type": "code",
   "execution_count": 91,
   "id": "1b110043",
   "metadata": {
    "execution": {
     "iopub.execute_input": "2022-07-21T09:39:40.598832Z",
     "iopub.status.busy": "2022-07-21T09:39:40.598459Z",
     "iopub.status.idle": "2022-07-21T09:39:41.669159Z",
     "shell.execute_reply": "2022-07-21T09:39:41.668077Z"
    },
    "papermill": {
     "duration": 1.09638,
     "end_time": "2022-07-21T09:39:41.671334",
     "exception": false,
     "start_time": "2022-07-21T09:39:40.574954",
     "status": "completed"
    },
    "tags": []
   },
   "outputs": [
    {
     "data": {
      "text/plain": [
       "<AxesSubplot:xlabel='location'>"
      ]
     },
     "execution_count": 91,
     "metadata": {},
     "output_type": "execute_result"
    },
    {
     "data": {
      "image/png": "[encoded data removed]",
      "text/plain": [
       "<Figure size 2016x432 with 1 Axes>"
      ]
     },
     "metadata": {
      "needs_background": "light"
     },
     "output_type": "display_data"
    }
   ],
   "source": [
    "data3.plot(kind='bar', figsize=(28,6))"
   ]
  },
  {
   "cell_type": "markdown",
   "id": "6718d2de",
   "metadata": {
    "papermill": {
     "duration": 0.024146,
     "end_time": "2022-07-21T09:39:41.719703",
     "exception": false,
     "start_time": "2022-07-21T09:39:41.695557",
     "status": "completed"
    },
    "tags": []
   },
   "source": [
    "# Visualization votes vs location"
   ]
  },
  {
   "cell_type": "code",
   "execution_count": 64,
   "id": "6a58b6e3",
   "metadata": {
    "execution": {
     "iopub.execute_input": "2022-07-21T09:39:41.769422Z",
     "iopub.status.busy": "2022-07-21T09:39:41.769020Z",
     "iopub.status.idle": "2022-07-21T09:39:41.793083Z",
     "shell.execute_reply": "2022-07-21T09:39:41.792315Z"
    },
    "papermill": {
     "duration": 0.051414,
     "end_time": "2022-07-21T09:39:41.794979",
     "exception": false,
     "start_time": "2022-07-21T09:39:41.743565",
     "status": "completed"
    },
    "tags": []
   },
   "outputs": [
    {
     "data": {
      "text/html": [
       "<div>\n",
       "<style scoped>\n",
       "    .dataframe tbody tr th:only-of-type {\n",
       "        vertical-align: middle;\n",
       "    }\n",
       "\n",
       "    .dataframe tbody tr th {\n",
       "        vertical-align: top;\n",
       "    }\n",
       "\n",
       "    .dataframe thead th {\n",
       "        text-align: right;\n",
       "    }\n",
       "</style>\n",
       "<table border=\"1\" class=\"dataframe\">\n",
       "  <thead>\n",
       "    <tr style=\"text-align: right;\">\n",
       "      <th></th>\n",
       "      <th>votes</th>\n",
       "    </tr>\n",
       "    <tr>\n",
       "      <th>location</th>\n",
       "      <th></th>\n",
       "    </tr>\n",
       "  </thead>\n",
       "  <tbody>\n",
       "    <tr>\n",
       "      <th>Koramangala 5th Block</th>\n",
       "      <td>2214083</td>\n",
       "    </tr>\n",
       "    <tr>\n",
       "      <th>others</th>\n",
       "      <td>1410176</td>\n",
       "    </tr>\n",
       "    <tr>\n",
       "      <th>Indiranagar</th>\n",
       "      <td>1165909</td>\n",
       "    </tr>\n",
       "    <tr>\n",
       "      <th>Koramangala 4th Block</th>\n",
       "      <td>685156</td>\n",
       "    </tr>\n",
       "    <tr>\n",
       "      <th>Church Street</th>\n",
       "      <td>590306</td>\n",
       "    </tr>\n",
       "  </tbody>\n",
       "</table>\n",
       "</div>"
      ],
      "text/plain": [
       "                         votes\n",
       "location                      \n",
       "Koramangala 5th Block  2214083\n",
       "others                 1410176\n",
       "Indiranagar            1165909\n",
       "Koramangala 4th Block   685156\n",
       "Church Street           590306"
      ]
     },
     "execution_count": 64,
     "metadata": {},
     "output_type": "execute_result"
    }
   ],
   "source": [
    "data4=data[['votes','location']]\n",
    "\n",
    "data4.drop_duplicates()\n",
    "\n",
    "data5=data4.groupby(['location'])['votes'].sum()\n",
    "data5=data5.to_frame()\n",
    "\n",
    "# we have sorted the  Data\n",
    "data5=data5.sort_values('votes',ascending=False)\n",
    "data5.head()"
   ]
  },
  {
   "cell_type": "code",
   "execution_count": 93,
   "id": "6aac2aaa",
   "metadata": {
    "execution": {
     "iopub.execute_input": "2022-07-21T09:39:41.844085Z",
     "iopub.status.busy": "2022-07-21T09:39:41.843702Z",
     "iopub.status.idle": "2022-07-21T09:39:42.260439Z",
     "shell.execute_reply": "2022-07-21T09:39:42.259668Z"
    },
    "papermill": {
     "duration": 0.443917,
     "end_time": "2022-07-21T09:39:42.262385",
     "exception": false,
     "start_time": "2022-07-21T09:39:41.818468",
     "status": "completed"
    },
    "tags": []
   },
   "outputs": [
    {
     "name": "stderr",
     "output_type": "stream",
     "text": [
      "C:\\Users\\96654\\anaconda3\\lib\\site-packages\\seaborn\\_decorators.py:36: FutureWarning: Pass the following variables as keyword args: x, y. From version 0.12, the only valid positional argument will be `data`, and passing other arguments without an explicit keyword will result in an error or misinterpretation.\n",
      "  warnings.warn(\n"
     ]
    },
    {
     "data": {
      "image/png": "[encoded data removed]",
      "text/plain": [
       "<Figure size 1584x360 with 1 Axes>"
      ]
     },
     "metadata": {
      "needs_background": "light"
     },
     "output_type": "display_data"
    }
   ],
   "source": [
    "plt.figure(figsize=(22,5))\n",
    "sns.barplot(data5.index,data5.votes)\n",
    "plt.xticks(rotation=90)\n",
    "plt.show()"
   ]
  },
  {
   "cell_type": "markdown",
   "id": "9c3d9a8c",
   "metadata": {
    "papermill": {
     "duration": 0.025452,
     "end_time": "2022-07-21T09:39:42.312712",
     "exception": false,
     "start_time": "2022-07-21T09:39:42.287260",
     "status": "completed"
    },
    "tags": []
   },
   "source": [
    "# Visulizing top cuisiens"
   ]
  },
  {
   "cell_type": "markdown",
   "id": "9a47d614",
   "metadata": {
    "papermill": {
     "duration": 0.024011,
     "end_time": "2022-07-21T09:39:42.360829",
     "exception": false,
     "start_time": "2022-07-21T09:39:42.336818",
     "status": "completed"
    },
    "tags": []
   },
   "source": [
    "### GroupBy feature is very importent"
   ]
  },
  {
   "cell_type": "code",
   "execution_count": 94,
   "id": "d0404d99",
   "metadata": {
    "execution": {
     "iopub.execute_input": "2022-07-21T09:39:42.410595Z",
     "iopub.status.busy": "2022-07-21T09:39:42.409946Z",
     "iopub.status.idle": "2022-07-21T09:39:42.434307Z",
     "shell.execute_reply": "2022-07-21T09:39:42.433116Z"
    },
    "papermill": {
     "duration": 0.051886,
     "end_time": "2022-07-21T09:39:42.436720",
     "exception": false,
     "start_time": "2022-07-21T09:39:42.384834",
     "status": "completed"
    },
    "tags": []
   },
   "outputs": [
    {
     "data": {
      "text/html": [
       "<div>\n",
       "<style scoped>\n",
       "    .dataframe tbody tr th:only-of-type {\n",
       "        vertical-align: middle;\n",
       "    }\n",
       "\n",
       "    .dataframe tbody tr th {\n",
       "        vertical-align: top;\n",
       "    }\n",
       "\n",
       "    .dataframe thead th {\n",
       "        text-align: right;\n",
       "    }\n",
       "</style>\n",
       "<table border=\"1\" class=\"dataframe\">\n",
       "  <thead>\n",
       "    <tr style=\"text-align: right;\">\n",
       "      <th></th>\n",
       "      <th>votes</th>\n",
       "    </tr>\n",
       "    <tr>\n",
       "      <th>cuisines</th>\n",
       "      <th></th>\n",
       "    </tr>\n",
       "  </thead>\n",
       "  <tbody>\n",
       "    <tr>\n",
       "      <th>others</th>\n",
       "      <td>11542182</td>\n",
       "    </tr>\n",
       "    <tr>\n",
       "      <th>North Indian</th>\n",
       "      <td>516310</td>\n",
       "    </tr>\n",
       "    <tr>\n",
       "      <th>North Indian, Chinese</th>\n",
       "      <td>258225</td>\n",
       "    </tr>\n",
       "    <tr>\n",
       "      <th>South Indian</th>\n",
       "      <td>161975</td>\n",
       "    </tr>\n",
       "    <tr>\n",
       "      <th>North Indian, Mughlai</th>\n",
       "      <td>103706</td>\n",
       "    </tr>\n",
       "  </tbody>\n",
       "</table>\n",
       "</div>"
      ],
      "text/plain": [
       "                          votes\n",
       "cuisines                       \n",
       "others                 11542182\n",
       "North Indian             516310\n",
       "North Indian, Chinese    258225\n",
       "South Indian             161975\n",
       "North Indian, Mughlai    103706"
      ]
     },
     "execution_count": 94,
     "metadata": {},
     "output_type": "execute_result"
    }
   ],
   "source": [
    "data6=data[['votes','cuisines']]\n",
    "data6.drop_duplicates()\n",
    "data7=data6.groupby(['cuisines'])['votes'].sum()\n",
    "data7=data7.to_frame()\n",
    "data7=data7.sort_values('votes',ascending=False)\n",
    "data7.head()"
   ]
  },
  {
   "cell_type": "code",
   "execution_count": 65,
   "id": "a590ba84",
   "metadata": {},
   "outputs": [
    {
     "data": {
      "text/html": [
       "<div>\n",
       "<style scoped>\n",
       "    .dataframe tbody tr th:only-of-type {\n",
       "        vertical-align: middle;\n",
       "    }\n",
       "\n",
       "    .dataframe tbody tr th {\n",
       "        vertical-align: top;\n",
       "    }\n",
       "\n",
       "    .dataframe thead th {\n",
       "        text-align: right;\n",
       "    }\n",
       "</style>\n",
       "<table border=\"1\" class=\"dataframe\">\n",
       "  <thead>\n",
       "    <tr style=\"text-align: right;\">\n",
       "      <th></th>\n",
       "      <th>rate</th>\n",
       "      <th>votes</th>\n",
       "      <th>Cost2Plates</th>\n",
       "    </tr>\n",
       "  </thead>\n",
       "  <tbody>\n",
       "    <tr>\n",
       "      <th>rate</th>\n",
       "      <td>1.000000</td>\n",
       "      <td>0.428384</td>\n",
       "      <td>0.365676</td>\n",
       "    </tr>\n",
       "    <tr>\n",
       "      <th>votes</th>\n",
       "      <td>0.428384</td>\n",
       "      <td>1.000000</td>\n",
       "      <td>0.380882</td>\n",
       "    </tr>\n",
       "    <tr>\n",
       "      <th>Cost2Plates</th>\n",
       "      <td>0.365676</td>\n",
       "      <td>0.380882</td>\n",
       "      <td>1.000000</td>\n",
       "    </tr>\n",
       "  </tbody>\n",
       "</table>\n",
       "</div>"
      ],
      "text/plain": [
       "                 rate     votes  Cost2Plates\n",
       "rate         1.000000  0.428384     0.365676\n",
       "votes        0.428384  1.000000     0.380882\n",
       "Cost2Plates  0.365676  0.380882     1.000000"
      ]
     },
     "execution_count": 65,
     "metadata": {},
     "output_type": "execute_result"
    }
   ],
   "source": [
    "data.corr()"
   ]
  },
  {
   "cell_type": "code",
   "execution_count": 66,
   "id": "c256b573",
   "metadata": {},
   "outputs": [
    {
     "data": {
      "text/plain": [
       "<AxesSubplot:>"
      ]
     },
     "execution_count": 66,
     "metadata": {},
     "output_type": "execute_result"
    },
    {
     "data": {
      "image/png": "[encoded data removed]",
      "text/plain": [
       "<Figure size 432x288 with 2 Axes>"
      ]
     },
     "metadata": {
      "needs_background": "light"
     },
     "output_type": "display_data"
    }
   ],
   "source": [
    "sns.heatmap(data.corr())"
   ]
  },
  {
   "cell_type": "markdown",
   "id": "24c96ca4",
   "metadata": {
    "papermill": {
     "duration": 0.025087,
     "end_time": "2022-07-21T09:39:43.799932",
     "exception": false,
     "start_time": "2022-07-21T09:39:43.774845",
     "status": "completed"
    },
    "tags": []
   },
   "source": [
    "# That is all from my side... Thanks a Lot"
   ]
  },
  {
   "cell_type": "markdown",
   "id": "d79788fb",
   "metadata": {
    "papermill": {
     "duration": 0.02521,
     "end_time": "2022-07-21T09:39:43.850587",
     "exception": false,
     "start_time": "2022-07-21T09:39:43.825377",
     "status": "completed"
    },
    "tags": []
   },
   "source": [
    "![](https://i.gifer.com/1kQ.gif)"
   ]
  }
 ],
 "metadata": {
  "kernelspec": {
   "display_name": "Python 3",
   "language": "python",
   "name": "python3"
  },
  "language_info": {
   "codemirror_mode": {
    "name": "ipython",
    "version": 3
   },
   "file_extension": ".py",
   "mimetype": "text/x-python",
   "name": "python",
   "nbconvert_exporter": "python",
   "pygments_lexer": "ipython3",
   "version": "3.8.8"
  },
  "papermill": {
   "default_parameters": {},
   "duration": 30.957247,
   "end_time": "2022-07-21T09:39:44.697048",
   "environment_variables": {},
   "exception": null,
   "input_path": "__notebook__.ipynb",
   "output_path": "__notebook__.ipynb",
   "parameters": {},
   "start_time": "2022-07-21T09:39:13.739801",
   "version": "2.3.4"
  }
 },
 "nbformat": 4,
 "nbformat_minor": 5
}
